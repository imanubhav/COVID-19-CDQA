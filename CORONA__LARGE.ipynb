{
  "nbformat": 4,
  "nbformat_minor": 0,
  "metadata": {
    "colab": {
      "name": "CORONA_WHOLE.ipynb",
      "provenance": [],
      "mount_file_id": "14sctbWcdMltQxx7LasXc0JvLP_A5y4yW",
      "authorship_tag": "ABX9TyO5O9kxnPBAgNgbIL643ZYQ",
      "include_colab_link": true
    },
    "kernelspec": {
      "name": "python3",
      "display_name": "Python 3"
    },
    "accelerator": "GPU"
  },
  "cells": [
    {
      "cell_type": "markdown",
      "metadata": {
        "id": "view-in-github",
        "colab_type": "text"
      },
      "source": [
        "<a href=\"https://colab.research.google.com/github/imanubhav/KARUNA_GO/blob/master/CORONA__LARGE.ipynb\" target=\"_parent\"><img src=\"https://colab.research.google.com/assets/colab-badge.svg\" alt=\"Open In Colab\"/></a>"
      ]
    },
    {
      "cell_type": "code",
      "metadata": {
        "id": "f0NDsnBCZU0Z",
        "colab_type": "code",
        "colab": {}
      },
      "source": [
        "import pandas as pd\n",
        "import numpy as np"
      ],
      "execution_count": 0,
      "outputs": []
    },
    {
      "cell_type": "code",
      "metadata": {
        "id": "y9qnxKANZaDV",
        "colab_type": "code",
        "colab": {
          "base_uri": "https://localhost:8080/",
          "height": 345
        },
        "outputId": "2051220e-a357-450a-8a87-6a9c1444a311"
      },
      "source": [
        "!pip install --upgrade pandas==1.0.3"
      ],
      "execution_count": 11,
      "outputs": [
        {
          "output_type": "stream",
          "text": [
            "Collecting pandas==1.0.3\n",
            "\u001b[?25l  Downloading https://files.pythonhosted.org/packages/bb/71/8f53bdbcbc67c912b888b40def255767e475402e9df64050019149b1a943/pandas-1.0.3-cp36-cp36m-manylinux1_x86_64.whl (10.0MB)\n",
            "\u001b[K     |████████████████████████████████| 10.0MB 2.8MB/s \n",
            "\u001b[?25hRequirement already satisfied, skipping upgrade: pytz>=2017.2 in /usr/local/lib/python3.6/dist-packages (from pandas==1.0.3) (2018.9)\n",
            "Requirement already satisfied, skipping upgrade: numpy>=1.13.3 in /usr/local/lib/python3.6/dist-packages (from pandas==1.0.3) (1.18.4)\n",
            "Requirement already satisfied, skipping upgrade: python-dateutil>=2.6.1 in /usr/local/lib/python3.6/dist-packages (from pandas==1.0.3) (2.8.1)\n",
            "Requirement already satisfied, skipping upgrade: six>=1.5 in /usr/local/lib/python3.6/dist-packages (from python-dateutil>=2.6.1->pandas==1.0.3) (1.12.0)\n",
            "\u001b[31mERROR: cdqa 1.3.9 has requirement pandas==0.25.0, but you'll have pandas 1.0.3 which is incompatible.\u001b[0m\n",
            "Installing collected packages: pandas\n",
            "  Found existing installation: pandas 0.25.0\n",
            "    Uninstalling pandas-0.25.0:\n",
            "      Successfully uninstalled pandas-0.25.0\n",
            "Successfully installed pandas-1.0.3\n"
          ],
          "name": "stdout"
        },
        {
          "output_type": "display_data",
          "data": {
            "application/vnd.colab-display-data+json": {
              "pip_warning": {
                "packages": [
                  "pandas"
                ]
              }
            }
          },
          "metadata": {
            "tags": []
          }
        }
      ]
    },
    {
      "cell_type": "code",
      "metadata": {
        "id": "wppqI9DKjqtZ",
        "colab_type": "code",
        "colab": {
          "base_uri": "https://localhost:8080/",
          "height": 1000
        },
        "outputId": "91639a7e-8e17-447b-a304-8a7dc139f7e8"
      },
      "source": [
        "!pip install cdqa"
      ],
      "execution_count": 2,
      "outputs": [
        {
          "output_type": "stream",
          "text": [
            "Collecting cdqa\n",
            "\u001b[?25l  Downloading https://files.pythonhosted.org/packages/39/f5/af831b7ee653aa6bace99e39ec6b2754b1adb10bb60a1296f5e16f1f24ee/cdqa-1.3.9.tar.gz (45kB)\n",
            "\u001b[K     |████████████████████████████████| 51kB 1.6MB/s \n",
            "\u001b[?25hCollecting Flask==1.1.1\n",
            "\u001b[?25l  Downloading https://files.pythonhosted.org/packages/9b/93/628509b8d5dc749656a9641f4caf13540e2cdec85276964ff8f43bbb1d3b/Flask-1.1.1-py2.py3-none-any.whl (94kB)\n",
            "\u001b[K     |████████████████████████████████| 102kB 4.4MB/s \n",
            "\u001b[?25hCollecting flask_cors==3.0.8\n",
            "  Downloading https://files.pythonhosted.org/packages/78/38/e68b11daa5d613e3a91e4bf3da76c94ac9ee0d9cd515af9c1ab80d36f709/Flask_Cors-3.0.8-py2.py3-none-any.whl\n",
            "Collecting joblib==0.13.2\n",
            "\u001b[?25l  Downloading https://files.pythonhosted.org/packages/cd/c1/50a758e8247561e58cb87305b1e90b171b8c767b15b12a1734001f41d356/joblib-0.13.2-py2.py3-none-any.whl (278kB)\n",
            "\u001b[K     |████████████████████████████████| 286kB 26.2MB/s \n",
            "\u001b[?25hCollecting pandas==0.25.0\n",
            "\u001b[?25l  Downloading https://files.pythonhosted.org/packages/1d/9a/7eb9952f4b4d73fbd75ad1d5d6112f407e695957444cb695cbb3cdab918a/pandas-0.25.0-cp36-cp36m-manylinux1_x86_64.whl (10.5MB)\n",
            "\u001b[K     |████████████████████████████████| 10.5MB 33.1MB/s \n",
            "\u001b[?25hRequirement already satisfied: prettytable==0.7.2 in /usr/local/lib/python3.6/dist-packages (from cdqa) (0.7.2)\n",
            "Collecting transformers==2.1.1\n",
            "\u001b[?25l  Downloading https://files.pythonhosted.org/packages/fd/f9/51824e40f0a23a49eab4fcaa45c1c797cbf9761adedd0b558dab7c958b34/transformers-2.1.1-py3-none-any.whl (311kB)\n",
            "\u001b[K     |████████████████████████████████| 317kB 38.3MB/s \n",
            "\u001b[?25hCollecting scikit_learn==0.21.2\n",
            "\u001b[?25l  Downloading https://files.pythonhosted.org/packages/85/04/49633f490f726da6e454fddc8e938bbb5bfed2001681118d3814c219b723/scikit_learn-0.21.2-cp36-cp36m-manylinux1_x86_64.whl (6.7MB)\n",
            "\u001b[K     |████████████████████████████████| 6.7MB 38.3MB/s \n",
            "\u001b[?25hCollecting tika==1.19\n",
            "  Downloading https://files.pythonhosted.org/packages/10/75/b566e446ffcf292f10c8d84c15a3d91615fe3d7ca8072a17c949d4e84b66/tika-1.19.tar.gz\n",
            "Collecting torch==1.2.0\n",
            "\u001b[?25l  Downloading https://files.pythonhosted.org/packages/30/57/d5cceb0799c06733eefce80c395459f28970ebb9e896846ce96ab579a3f1/torch-1.2.0-cp36-cp36m-manylinux1_x86_64.whl (748.8MB)\n",
            "\u001b[K     |████████████████████████████████| 748.9MB 23kB/s \n",
            "\u001b[?25hCollecting markdown==3.1.1\n",
            "\u001b[?25l  Downloading https://files.pythonhosted.org/packages/c0/4e/fd492e91abdc2d2fcb70ef453064d980688762079397f779758e055f6575/Markdown-3.1.1-py2.py3-none-any.whl (87kB)\n",
            "\u001b[K     |████████████████████████████████| 92kB 5.3MB/s \n",
            "\u001b[?25hCollecting tqdm==4.32.2\n",
            "\u001b[?25l  Downloading https://files.pythonhosted.org/packages/9f/3d/7a6b68b631d2ab54975f3a4863f3c4e9b26445353264ef01f465dc9b0208/tqdm-4.32.2-py2.py3-none-any.whl (50kB)\n",
            "\u001b[K     |████████████████████████████████| 51kB 198kB/s \n",
            "\u001b[?25hCollecting wget==3.2\n",
            "  Downloading https://files.pythonhosted.org/packages/47/6a/62e288da7bcda82b935ff0c6cfe542970f04e29c756b0e147251b2fb251f/wget-3.2.zip\n",
            "Requirement already satisfied: itsdangerous>=0.24 in /usr/local/lib/python3.6/dist-packages (from Flask==1.1.1->cdqa) (1.1.0)\n",
            "Requirement already satisfied: Werkzeug>=0.15 in /usr/local/lib/python3.6/dist-packages (from Flask==1.1.1->cdqa) (1.0.1)\n",
            "Requirement already satisfied: Jinja2>=2.10.1 in /usr/local/lib/python3.6/dist-packages (from Flask==1.1.1->cdqa) (2.11.2)\n",
            "Requirement already satisfied: click>=5.1 in /usr/local/lib/python3.6/dist-packages (from Flask==1.1.1->cdqa) (7.1.2)\n",
            "Requirement already satisfied: Six in /usr/local/lib/python3.6/dist-packages (from flask_cors==3.0.8->cdqa) (1.12.0)\n",
            "Requirement already satisfied: pytz>=2017.2 in /usr/local/lib/python3.6/dist-packages (from pandas==0.25.0->cdqa) (2018.9)\n",
            "Requirement already satisfied: numpy>=1.13.3 in /usr/local/lib/python3.6/dist-packages (from pandas==0.25.0->cdqa) (1.18.4)\n",
            "Requirement already satisfied: python-dateutil>=2.6.1 in /usr/local/lib/python3.6/dist-packages (from pandas==0.25.0->cdqa) (2.8.1)\n",
            "Requirement already satisfied: requests in /usr/local/lib/python3.6/dist-packages (from transformers==2.1.1->cdqa) (2.23.0)\n",
            "Requirement already satisfied: regex in /usr/local/lib/python3.6/dist-packages (from transformers==2.1.1->cdqa) (2019.12.20)\n",
            "Collecting sacremoses\n",
            "\u001b[?25l  Downloading https://files.pythonhosted.org/packages/7d/34/09d19aff26edcc8eb2a01bed8e98f13a1537005d31e95233fd48216eed10/sacremoses-0.0.43.tar.gz (883kB)\n",
            "\u001b[K     |████████████████████████████████| 890kB 39.5MB/s \n",
            "\u001b[?25hCollecting sentencepiece\n",
            "\u001b[?25l  Downloading https://files.pythonhosted.org/packages/d4/a4/d0a884c4300004a78cca907a6ff9a5e9fe4f090f5d95ab341c53d28cbc58/sentencepiece-0.1.91-cp36-cp36m-manylinux1_x86_64.whl (1.1MB)\n",
            "\u001b[K     |████████████████████████████████| 1.1MB 41.6MB/s \n",
            "\u001b[?25hRequirement already satisfied: boto3 in /usr/local/lib/python3.6/dist-packages (from transformers==2.1.1->cdqa) (1.13.13)\n",
            "Requirement already satisfied: scipy>=0.17.0 in /usr/local/lib/python3.6/dist-packages (from scikit_learn==0.21.2->cdqa) (1.4.1)\n",
            "Requirement already satisfied: setuptools in /usr/local/lib/python3.6/dist-packages (from tika==1.19->cdqa) (46.3.0)\n",
            "Requirement already satisfied: MarkupSafe>=0.23 in /usr/local/lib/python3.6/dist-packages (from Jinja2>=2.10.1->Flask==1.1.1->cdqa) (1.1.1)\n",
            "Requirement already satisfied: urllib3!=1.25.0,!=1.25.1,<1.26,>=1.21.1 in /usr/local/lib/python3.6/dist-packages (from requests->transformers==2.1.1->cdqa) (1.24.3)\n",
            "Requirement already satisfied: certifi>=2017.4.17 in /usr/local/lib/python3.6/dist-packages (from requests->transformers==2.1.1->cdqa) (2020.4.5.1)\n",
            "Requirement already satisfied: chardet<4,>=3.0.2 in /usr/local/lib/python3.6/dist-packages (from requests->transformers==2.1.1->cdqa) (3.0.4)\n",
            "Requirement already satisfied: idna<3,>=2.5 in /usr/local/lib/python3.6/dist-packages (from requests->transformers==2.1.1->cdqa) (2.9)\n",
            "Requirement already satisfied: jmespath<1.0.0,>=0.7.1 in /usr/local/lib/python3.6/dist-packages (from boto3->transformers==2.1.1->cdqa) (0.10.0)\n",
            "Requirement already satisfied: botocore<1.17.0,>=1.16.13 in /usr/local/lib/python3.6/dist-packages (from boto3->transformers==2.1.1->cdqa) (1.16.13)\n",
            "Requirement already satisfied: s3transfer<0.4.0,>=0.3.0 in /usr/local/lib/python3.6/dist-packages (from boto3->transformers==2.1.1->cdqa) (0.3.3)\n",
            "Requirement already satisfied: docutils<0.16,>=0.10 in /usr/local/lib/python3.6/dist-packages (from botocore<1.17.0,>=1.16.13->boto3->transformers==2.1.1->cdqa) (0.15.2)\n",
            "Building wheels for collected packages: cdqa, tika, wget, sacremoses\n",
            "  Building wheel for cdqa (setup.py) ... \u001b[?25l\u001b[?25hdone\n",
            "  Created wheel for cdqa: filename=cdqa-1.3.9-cp36-none-any.whl size=47640 sha256=beea20b39dc2a9d27b3b52894c8a826e60ce745625b7d5171c2ce6212c232c2f\n",
            "  Stored in directory: /root/.cache/pip/wheels/8b/9a/68/d3f7651ea29c30d1bebc9e946bf5a8cf922e1c86fb6b8a33d9\n",
            "  Building wheel for tika (setup.py) ... \u001b[?25l\u001b[?25hdone\n",
            "  Created wheel for tika: filename=tika-1.19-cp36-none-any.whl size=29222 sha256=2742e64c8b97cdf1b40f2b3a68a6a2513987a838eb7012c76b709d07fd26f637\n",
            "  Stored in directory: /root/.cache/pip/wheels/b4/db/8a/3a3f0c0725448eaa92703e3dda71e29dc13a119ff6c1036848\n",
            "  Building wheel for wget (setup.py) ... \u001b[?25l\u001b[?25hdone\n",
            "  Created wheel for wget: filename=wget-3.2-cp36-none-any.whl size=9682 sha256=de738cb3295e251d09a2a297d627790e5ea32df350826341e58bf5d22421cd53\n",
            "  Stored in directory: /root/.cache/pip/wheels/40/15/30/7d8f7cea2902b4db79e3fea550d7d7b85ecb27ef992b618f3f\n",
            "  Building wheel for sacremoses (setup.py) ... \u001b[?25l\u001b[?25hdone\n",
            "  Created wheel for sacremoses: filename=sacremoses-0.0.43-cp36-none-any.whl size=893260 sha256=a604e2025203aad78a87da968220ea0fa91fa7e2cae7c8caea7189342c86b17d\n",
            "  Stored in directory: /root/.cache/pip/wheels/29/3c/fd/7ce5c3f0666dab31a50123635e6fb5e19ceb42ce38d4e58f45\n",
            "Successfully built cdqa tika wget sacremoses\n",
            "\u001b[31mERROR: torchvision 0.6.0+cu101 has requirement torch==1.5.0, but you'll have torch 1.2.0 which is incompatible.\u001b[0m\n",
            "\u001b[31mERROR: spacy 2.2.4 has requirement tqdm<5.0.0,>=4.38.0, but you'll have tqdm 4.32.2 which is incompatible.\u001b[0m\n",
            "\u001b[31mERROR: google-colab 1.0.0 has requirement pandas~=1.0.0; python_version >= \"3.0\", but you'll have pandas 0.25.0 which is incompatible.\u001b[0m\n",
            "Installing collected packages: Flask, flask-cors, joblib, pandas, tqdm, sacremoses, sentencepiece, transformers, scikit-learn, tika, torch, markdown, wget, cdqa\n",
            "  Found existing installation: Flask 1.1.2\n",
            "    Uninstalling Flask-1.1.2:\n",
            "      Successfully uninstalled Flask-1.1.2\n",
            "  Found existing installation: joblib 0.15.1\n",
            "    Uninstalling joblib-0.15.1:\n",
            "      Successfully uninstalled joblib-0.15.1\n",
            "  Found existing installation: pandas 1.0.3\n",
            "    Uninstalling pandas-1.0.3:\n",
            "      Successfully uninstalled pandas-1.0.3\n",
            "  Found existing installation: tqdm 4.41.1\n",
            "    Uninstalling tqdm-4.41.1:\n",
            "      Successfully uninstalled tqdm-4.41.1\n",
            "  Found existing installation: scikit-learn 0.22.2.post1\n",
            "    Uninstalling scikit-learn-0.22.2.post1:\n",
            "      Successfully uninstalled scikit-learn-0.22.2.post1\n",
            "  Found existing installation: torch 1.5.0+cu101\n",
            "    Uninstalling torch-1.5.0+cu101:\n",
            "      Successfully uninstalled torch-1.5.0+cu101\n",
            "  Found existing installation: Markdown 3.2.2\n",
            "    Uninstalling Markdown-3.2.2:\n",
            "      Successfully uninstalled Markdown-3.2.2\n",
            "Successfully installed Flask-1.1.1 cdqa-1.3.9 flask-cors-3.0.8 joblib-0.13.2 markdown-3.1.1 pandas-0.25.0 sacremoses-0.0.43 scikit-learn-0.21.2 sentencepiece-0.1.91 tika-1.19 torch-1.2.0 tqdm-4.32.2 transformers-2.1.1 wget-3.2\n"
          ],
          "name": "stdout"
        },
        {
          "output_type": "display_data",
          "data": {
            "application/vnd.colab-display-data+json": {
              "pip_warning": {
                "packages": [
                  "pandas",
                  "tqdm"
                ]
              }
            }
          },
          "metadata": {
            "tags": []
          }
        }
      ]
    },
    {
      "cell_type": "code",
      "metadata": {
        "id": "AR8ByaU3Zjge",
        "colab_type": "code",
        "colab": {}
      },
      "source": [
        "corpus=pd.read_csv(\"/content/drive/My Drive/Karuna/cdqa_whole.csv\",encoding='utf-8')"
      ],
      "execution_count": 0,
      "outputs": []
    },
    {
      "cell_type": "code",
      "metadata": {
        "id": "g5zkCTKgaPat",
        "colab_type": "code",
        "colab": {}
      },
      "source": [
        "def customRange(start,end,step):\n",
        "    l=[]\n",
        "    m=[]\n",
        "    i = start\n",
        "    while i < end-step-15:\n",
        "        l.append(i)\n",
        "        i += step\n",
        "        m.append(i)\n",
        "    l.append(i)\n",
        "    m.append(end)\n",
        "    return zip(l,m)\n"
      ],
      "execution_count": 0,
      "outputs": []
    },
    {
      "cell_type": "code",
      "metadata": {
        "id": "Y4-oM3NEaZ2y",
        "colab_type": "code",
        "colab": {}
      },
      "source": [
        "df_en=corpus.copy()"
      ],
      "execution_count": 0,
      "outputs": []
    },
    {
      "cell_type": "code",
      "metadata": {
        "id": "tptz-OCGiNmr",
        "colab_type": "code",
        "colab": {
          "base_uri": "https://localhost:8080/",
          "height": 71
        },
        "outputId": "ffbdb730-038f-4bb4-ab3e-b7394f52f7a0"
      },
      "source": [
        "# The End-To-End Closed Domain Question Answering System is used here.\n",
        "# It is available at: https://pypi.org/project/cdqa/\n",
        "\n",
        "from cdqa.utils.filters import filter_paragraphs\n",
        "from cdqa.utils.download import download_model, download_bnpp_data\n",
        "from cdqa.pipeline.cdqa_sklearn import QAPipeline\n",
        "#download_bnpp_data(dir='./data/bnpp_newsroom_v1.1/')\n",
        "#download_model(model='distilbert-squad_1.1')\n"
      ],
      "execution_count": 3,
      "outputs": [
        {
          "output_type": "stream",
          "text": [
            "/usr/local/lib/python3.6/dist-packages/tqdm/autonotebook/__init__.py:18: TqdmExperimentalWarning: Using `tqdm.autonotebook.tqdm` in notebook mode. Use `tqdm.tqdm` instead to force console mode (e.g. in jupyter console)\n",
            "  \" (e.g. in jupyter console)\", TqdmExperimentalWarning)\n"
          ],
          "name": "stderr"
        }
      ]
    },
    {
      "cell_type": "code",
      "metadata": {
        "id": "yfa55hMljaJn",
        "colab_type": "code",
        "colab": {}
      },
      "source": [
        "!wget https://github.com/cdqa-suite/cdQA/releases/download/bert_qa_vGPU/bert_qa_vGPU-sklearn.joblib"
      ],
      "execution_count": 0,
      "outputs": []
    },
    {
      "cell_type": "code",
      "metadata": {
        "id": "vHbxE3EkjdoJ",
        "colab_type": "code",
        "colab": {}
      },
      "source": [
        "!pip3 install pytorch-pretrained-bert"
      ],
      "execution_count": 0,
      "outputs": []
    },
    {
      "cell_type": "code",
      "metadata": {
        "id": "w4ig2GFbmYmO",
        "colab_type": "code",
        "colab": {}
      },
      "source": [
        "from cdqa.pipeline.cdqa_sklearn import QAPipeline"
      ],
      "execution_count": 0,
      "outputs": []
    },
    {
      "cell_type": "code",
      "metadata": {
        "id": "z0Or5Q8OormH",
        "colab_type": "code",
        "colab": {}
      },
      "source": [
        "cdqa_pipeline = QAPipeline(reader='bert_qa_vGPU-sklearn.joblib')"
      ],
      "execution_count": 0,
      "outputs": []
    },
    {
      "cell_type": "code",
      "metadata": {
        "id": "Fs9UmAVdjlq7",
        "colab_type": "code",
        "colab": {}
      },
      "source": [
        "#cdqa_pipeline = QAPipeline(reader='distilbert_qa.joblib')"
      ],
      "execution_count": 0,
      "outputs": []
    },
    {
      "cell_type": "code",
      "metadata": {
        "id": "fD-O1pF1dHBO",
        "colab_type": "code",
        "colab": {}
      },
      "source": [
        "from ast import literal_eval"
      ],
      "execution_count": 0,
      "outputs": []
    },
    {
      "cell_type": "code",
      "metadata": {
        "id": "ziVtgJoatdJC",
        "colab_type": "code",
        "colab": {
          "base_uri": "https://localhost:8080/",
          "height": 306
        },
        "outputId": "af4dd5d9-feb0-401c-e69f-583d05a93e36"
      },
      "source": [
        "df_cleaned.head()"
      ],
      "execution_count": 10,
      "outputs": [
        {
          "output_type": "execute_result",
          "data": {
            "text/html": [
              "<div>\n",
              "<style scoped>\n",
              "    .dataframe tbody tr th:only-of-type {\n",
              "        vertical-align: middle;\n",
              "    }\n",
              "\n",
              "    .dataframe tbody tr th {\n",
              "        vertical-align: top;\n",
              "    }\n",
              "\n",
              "    .dataframe thead th {\n",
              "        text-align: right;\n",
              "    }\n",
              "</style>\n",
              "<table border=\"1\" class=\"dataframe\">\n",
              "  <thead>\n",
              "    <tr style=\"text-align: right;\">\n",
              "      <th></th>\n",
              "      <th>Unnamed: 0</th>\n",
              "      <th>Unnamed: 0.1</th>\n",
              "      <th>Unnamed: 0.1.1</th>\n",
              "      <th>date</th>\n",
              "      <th>title</th>\n",
              "      <th>category</th>\n",
              "      <th>link</th>\n",
              "      <th>abstract</th>\n",
              "      <th>paragraphs</th>\n",
              "    </tr>\n",
              "  </thead>\n",
              "  <tbody>\n",
              "    <tr>\n",
              "      <th>0</th>\n",
              "      <td>0</td>\n",
              "      <td>0.0</td>\n",
              "      <td>0.0</td>\n",
              "      <td>None</td>\n",
              "      <td>/3-Endorphin protects mice from neurological d...</td>\n",
              "      <td>None</td>\n",
              "      <td>None</td>\n",
              "      <td>Abstract\\n\\nThe neurotropic murine coronavirus...</td>\n",
              "      <td>[Introduction The neurotropic strain of mouse ...</td>\n",
              "    </tr>\n",
              "    <tr>\n",
              "      <th>1</th>\n",
              "      <td>1</td>\n",
              "      <td>1.0</td>\n",
              "      <td>1.0</td>\n",
              "      <td>None</td>\n",
              "      <td>Breastfeeding: A guide for the medical profess...</td>\n",
              "      <td>None</td>\n",
              "      <td>None</td>\n",
              "      <td>NaN</td>\n",
              "      <td>[ A large body of evidence clearly demonstrate...</td>\n",
              "    </tr>\n",
              "    <tr>\n",
              "      <th>2</th>\n",
              "      <td>2</td>\n",
              "      <td>2.0</td>\n",
              "      <td>2.0</td>\n",
              "      <td>None</td>\n",
              "      <td>Diagnostic performance of a rapid in-clinic te...</td>\n",
              "      <td>None</td>\n",
              "      <td>None</td>\n",
              "      <td>Abstract\\n\\nCanine parvovirus (CPV) is one of ...</td>\n",
              "      <td>[ co-circulates with other CPV types in Vietna...</td>\n",
              "    </tr>\n",
              "    <tr>\n",
              "      <th>3</th>\n",
              "      <td>3</td>\n",
              "      <td>3.0</td>\n",
              "      <td>3.0</td>\n",
              "      <td>None</td>\n",
              "      <td>Molecular virology of hepatitis E virus</td>\n",
              "      <td>None</td>\n",
              "      <td>None</td>\n",
              "      <td>Abstract\\n\\nThis review details the molecular ...</td>\n",
              "      <td>[Introduction Hepatitis E virus (HEV) is the c...</td>\n",
              "    </tr>\n",
              "    <tr>\n",
              "      <th>4</th>\n",
              "      <td>4</td>\n",
              "      <td>4.0</td>\n",
              "      <td>4.0</td>\n",
              "      <td>None</td>\n",
              "      <td>Respiratory Picornaviruses and Respiratory Syn...</td>\n",
              "      <td>None</td>\n",
              "      <td>None</td>\n",
              "      <td>Abstract\\n\\nWe studied the viral etiology of a...</td>\n",
              "      <td>[ A cute expiratory wheezing illnesses (bronch...</td>\n",
              "    </tr>\n",
              "  </tbody>\n",
              "</table>\n",
              "</div>"
            ],
            "text/plain": [
              "   Unnamed: 0  ...                                         paragraphs\n",
              "0           0  ...  [Introduction The neurotropic strain of mouse ...\n",
              "1           1  ...  [ A large body of evidence clearly demonstrate...\n",
              "2           2  ...  [ co-circulates with other CPV types in Vietna...\n",
              "3           3  ...  [Introduction Hepatitis E virus (HEV) is the c...\n",
              "4           4  ...  [ A cute expiratory wheezing illnesses (bronch...\n",
              "\n",
              "[5 rows x 9 columns]"
            ]
          },
          "metadata": {
            "tags": []
          },
          "execution_count": 10
        }
      ]
    },
    {
      "cell_type": "code",
      "metadata": {
        "id": "BClMwu6DDuEq",
        "colab_type": "code",
        "colab": {}
      },
      "source": [
        "df_cleaned=pd.read_csv('/content/drive/My Drive/Karuna/cdqa_cleaned_new.csv',converters={'paragraphs': literal_eval},nrows=30000)"
      ],
      "execution_count": 0,
      "outputs": []
    },
    {
      "cell_type": "code",
      "metadata": {
        "id": "7cklt_mybQOx",
        "colab_type": "code",
        "colab": {
          "base_uri": "https://localhost:8080/",
          "height": 54
        },
        "outputId": "d57ae65a-dc03-4929-89dd-4e933bdcfc7d"
      },
      "source": [
        "df_cleaned['paragraphs'][0][0]"
      ],
      "execution_count": 9,
      "outputs": [
        {
          "output_type": "execute_result",
          "data": {
            "text/plain": [
              "'Introduction The neurotropic strain of mouse hepatitis virus known as MHV-4-JHM (JHMV) causes acute encephalitis accompanied by acute and in some cases chronic paralytic-demyelinating disease in susceptible strains of mice and rats (Cheever et al., 1949; Weiner, 1973; Lampert et al., 1973; Sorensen et al., 1980 , Knobler et al., 1981 Wege et al., 1981; Dal Canto and Rabinowitz, 1982; Buchmeier et al., 1988) '"
            ]
          },
          "metadata": {
            "tags": []
          },
          "execution_count": 9
        }
      ]
    },
    {
      "cell_type": "code",
      "metadata": {
        "id": "NrXTGX5k0QbA",
        "colab_type": "code",
        "colab": {}
      },
      "source": [
        "\n",
        "colms = ['date', 'title', 'category', 'link', 'abstract', 'paragraphs']\n",
        "#df_cleaned = pd.DataFrame(columns=colms)\n",
        "for i in range(40000,59559):\n",
        "    if i%5000==0:\n",
        "      print(i)\n",
        "    df_en['text'][i] = df_en['text'][i].replace('\\n\\n', ' ')\n",
        "    CurrentText = df_en['text'][i]\n",
        "    CurrentText = CurrentText.split('. ')\n",
        "    CurrentList = [\"None\", df_en['title'][i], \"None\", \"None\", df_en['abstract'][i], CurrentText]\n",
        "    CurrentList = np.array(CurrentList)\n",
        "    CurrentList = CurrentList.reshape(1, CurrentList.shape[0])\n",
        "    CurrentList = pd.DataFrame(data = CurrentList, columns=colms)\n",
        "    df_cleaned = pd.concat([df_cleaned, CurrentList], ignore_index=True)\n",
        "df_cleaned.to_csv('df_cleaned.csv')\n",
        "#df_cleaned.head()"
      ],
      "execution_count": 0,
      "outputs": []
    },
    {
      "cell_type": "code",
      "metadata": {
        "id": "3ztsr3eP5cna",
        "colab_type": "code",
        "colab": {
          "base_uri": "https://localhost:8080/",
          "height": 34
        },
        "outputId": "55b87722-aecc-4c4d-9471-9ee7a572b457"
      },
      "source": [
        ""
      ],
      "execution_count": 37,
      "outputs": [
        {
          "output_type": "execute_result",
          "data": {
            "text/plain": [
              "Index(['title', 'abstract', 'paragraphs'], dtype='object')"
            ]
          },
          "metadata": {
            "tags": []
          },
          "execution_count": 37
        }
      ]
    },
    {
      "cell_type": "code",
      "metadata": {
        "id": "6jPi3xxOt96J",
        "colab_type": "code",
        "colab": {
          "base_uri": "https://localhost:8080/",
          "height": 34
        },
        "outputId": "21797d04-0e16-48af-c8da-4c60e9ac0889"
      },
      "source": [
        "clean_0_df=df_cleaned.copy()\n",
        "df_cleaned.columns\n"
      ],
      "execution_count": 8,
      "outputs": [
        {
          "output_type": "execute_result",
          "data": {
            "text/plain": [
              "Index(['title', 'abstract', 'paragraphs'], dtype='object')"
            ]
          },
          "metadata": {
            "tags": []
          },
          "execution_count": 8
        }
      ]
    },
    {
      "cell_type": "code",
      "metadata": {
        "id": "KJ_mDOyMqyHS",
        "colab_type": "code",
        "colab": {}
      },
      "source": [
        "df_cleaned=df_cleaned.drop(['Unnamed: 0'],axis=1)\n"
      ],
      "execution_count": 0,
      "outputs": []
    },
    {
      "cell_type": "markdown",
      "metadata": {
        "id": "b0pq_7D0bUlx",
        "colab_type": "text"
      },
      "source": [
        "df_cleaned.to_csv('cdqa_cleaned_new.csv')\n",
        "!cp cdqa_cleaned_new.csv \"/content/drive/My Drive/Karuna\""
      ]
    },
    {
      "cell_type": "markdown",
      "metadata": {
        "id": "CgnGGkXge7cm",
        "colab_type": "text"
      },
      "source": [
        ""
      ]
    },
    {
      "cell_type": "code",
      "metadata": {
        "id": "32qcm0x7q6p4",
        "colab_type": "code",
        "colab": {}
      },
      "source": [
        "#df_cleaned=filter_paragraphs(df_cleaned)\n",
        "df_cleaned.to_csv('cdqa_cleaned_new.csv') \n",
        "!cp cdqa_cleaned_new.csv \"/content/drive/My Drive/Karuna\""
      ],
      "execution_count": 0,
      "outputs": []
    },
    {
      "cell_type": "code",
      "metadata": {
        "id": "mD2b1S9BOnwW",
        "colab_type": "code",
        "colab": {}
      },
      "source": [
        "df_l=df_cleaned.copy()"
      ],
      "execution_count": 0,
      "outputs": []
    },
    {
      "cell_type": "code",
      "metadata": {
        "id": "U6JRW1p_RKY1",
        "colab_type": "code",
        "colab": {}
      },
      "source": [
        "df_aise=filter_paragraphs(df_cleaned.loc[1:10].copy())\n"
      ],
      "execution_count": 0,
      "outputs": []
    },
    {
      "cell_type": "code",
      "metadata": {
        "id": "8uZTWR0hboiw",
        "colab_type": "code",
        "colab": {}
      },
      "source": [
        ""
      ],
      "execution_count": 0,
      "outputs": []
    },
    {
      "cell_type": "code",
      "metadata": {
        "id": "8eyIXFrSZsSi",
        "colab_type": "code",
        "colab": {}
      },
      "source": [
        ""
      ],
      "execution_count": 0,
      "outputs": []
    },
    {
      "cell_type": "code",
      "metadata": {
        "id": "QFNKmew7_R7d",
        "colab_type": "code",
        "colab": {}
      },
      "source": [
        "queries = ['What is optimal quarantine period for coronavirus COVID-19',\n",
        " #        'What is range of incubation period for coronavirus SARS-CoV-2 COVID-19 in humans',\n",
        "           \n",
        " #     'What is effective quarantine period for coronavirus COVID-19',\n",
        " #         'What is percentage of death cases for coronavirus SARS-CoV-2 COVID-19',\n",
        " #        'What is death rate for coronavirus COVID-19 and air pollution',\n",
        " #         'At which temperature coronavirus COVID-19 can survive',\n",
        "#           'How long coronavirus SARS-CoV-2 can survive on plastic surface',\n",
        " #          'What are risk factors for coronavirus COVID-19'\n",
        "#           ,\n",
        "          'What is origin of coronavirus COVID-19'\n",
        " #          ,\n",
        "#        'At which temperature coronavirus cannot survive'\n",
        "] \n",
        "#query_embeddings = model_db.encode(queries)"
      ],
      "execution_count": 0,
      "outputs": []
    },
    {
      "cell_type": "code",
      "metadata": {
        "id": "WwBH-6JNq61M",
        "colab_type": "code",
        "colab": {}
      },
      "source": [
        "def train_retriever_better(pipeline,readerSize,retrieverSize,df_l,batchsize,taskQuery,numTask):\n",
        "    \"\"\"\n",
        "    try to use batches to fit retriever\n",
        "    \"\"\"\n",
        "    predictions=[]\n",
        "    pipeline.reader.n_best_size = readerSize \n",
        "    pipeline.retriever.top_n = retrieverSize\n",
        "    for (n,m) in customRange(0,df_l.shape[0],batchsize):\n",
        "        print(n)\n",
        "        pipeline.fit_retriever(df_l[n:m])\n",
        "        pred=[]\n",
        "        for query in taskQuery:\n",
        "            prediction=pipeline.predict(query=query, return_all_preds= True)\n",
        "            pred.append(prediction)\n",
        "        predictions.append(pred)\n",
        "    for i in range(len(queries)):\n",
        "        l=[]\n",
        "        for pred in predictions:\n",
        "            l=l+pred[i]\n",
        "        df=pd.DataFrame(l)\n",
        "        df.to_csv('task'+str(numTask)+'_q_'+str(i)+'.csv', index=False, mode='a', header=False)\n"
      ],
      "execution_count": 0,
      "outputs": []
    },
    {
      "cell_type": "code",
      "metadata": {
        "id": "V7NsFJqUq6x4",
        "colab_type": "code",
        "colab": {
          "base_uri": "https://localhost:8080/",
          "height": 374
        },
        "outputId": "81edb7e4-2ca2-4295-c4da-a9bfab717c69"
      },
      "source": [
        "for (n,m) in customRange(0,len(clean_0_df),9000):\n",
        "    train_retriever_better(cdqa_pipeline,10,10,clean_0_df[['title','paragraphs']][n:m], 400,queries,1)"
      ],
      "execution_count": 0,
      "outputs": [
        {
          "output_type": "stream",
          "text": [
            "0\n",
            "400\n",
            "800\n",
            "1200\n",
            "1600\n",
            "2000\n",
            "2400\n",
            "2800\n",
            "3200\n",
            "3600\n",
            "4000\n",
            "4400\n",
            "4800\n",
            "5200\n",
            "5600\n",
            "6000\n",
            "6400\n",
            "6800\n",
            "7200\n",
            "7600\n",
            "8000\n"
          ],
          "name": "stdout"
        }
      ]
    },
    {
      "cell_type": "code",
      "metadata": {
        "id": "gdz2vXQiq6vH",
        "colab_type": "code",
        "colab": {}
      },
      "source": [
        " df_temp=pd.read_csv('task1_q_1.csv', header=None,names=[\"answer\", \"probability\",\"start\",\"end\",\"qas_id\",\"title\",\"paragraph\",\"retriver_score\",\"final_score\"])"
      ],
      "execution_count": 0,
      "outputs": []
    },
    {
      "cell_type": "code",
      "metadata": {
        "id": "xKFyrJl1pGeh",
        "colab_type": "code",
        "colab": {}
      },
      "source": [
        "import matplotlib.pyplot as plt; plt.rcdefaults()\n",
        "import numpy as np\n",
        "import matplotlib.pyplot as plt\n",
        "s_pred_df_1=df_temp.sort_values('final_score',ascending=False)[0:5]\n",
        "objects = s_pred_df_1['answer']\n",
        "y_pos = np.arange(len(objects))\n",
        "performance = s_pred_df_1['final_score']\n",
        "\n",
        "plt.bar(y_pos, performance, align='center', alpha=0.5)\n",
        "plt.xticks(y_pos, objects,rotation='vertical')\n",
        "#plt.xticks()\n",
        "plt.ylabel('answer')\n",
        "plt.title('Scoring of answers')\n",
        "\n",
        "plt.show() "
      ],
      "execution_count": 0,
      "outputs": []
    },
    {
      "cell_type": "code",
      "metadata": {
        "id": "5iUyaFtGpJLE",
        "colab_type": "code",
        "colab": {}
      },
      "source": [
        ""
      ],
      "execution_count": 0,
      "outputs": []
    },
    {
      "cell_type": "code",
      "metadata": {
        "id": "kMEh6Wzyh7yn",
        "colab_type": "code",
        "colab": {}
      },
      "source": [
        "from IPython.core.display import display, HTML "
      ],
      "execution_count": 0,
      "outputs": []
    },
    {
      "cell_type": "code",
      "metadata": {
        "id": "vgtaEnCHyFg2",
        "colab_type": "code",
        "colab": {}
      },
      "source": [
        "def print_queries(query,taskNumber,path=None,k=3):\n",
        "    for j in range(len(query)):\n",
        "        if(path):\n",
        "            df=pd.read_csv(path+'task'+str(taskNumber)+'/'+'task'+str(taskNumber)+'_q_'+str(j)+'.csv',header=None)\n",
        "        else:\n",
        "            df=pd.read_csv('task'+str(taskNumber)+'_q_'+str(j)+'.csv',header=None)\n",
        "            df = df.sort_values(df.columns[8],ascending=False)\n",
        "            df.reset_index(drop = True, inplace = True)\n",
        "        display(HTML(f'<h2 class=\"question\" > QUERY: {j+1}: \\n {query[j]} \\n</h2>'))\n",
        "        for i in range(0,k):\n",
        "            display(HTML(f'<h3 class=\"answer\">ANSWER: {i+1}: \\n {df[0][i]} </h3>'))\n",
        "            display(HTML(f'<h4 >TITLE: {i+1}: \\n {df[5][i]} </h4> '))\n",
        "            display(HTML(f'<h4 >DESCRIBED IN PAPER: \\n</h4>  {df[6][i]} '))"
      ],
      "execution_count": 0,
      "outputs": []
    },
    {
      "cell_type": "code",
      "metadata": {
        "id": "W6R25zcXytf7",
        "colab_type": "code",
        "colab": {}
      },
      "source": [
        "%%HTML\n",
        "<style type=\"text/css\">\n",
        "h2.question {\n",
        "     background-color: steelblue; \n",
        "     color: white; \n",
        "     padding: 8px; \n",
        "     padding-right: 30px; \n",
        "     font-size: 24px; \n",
        "     max-width: 1500px; \n",
        "     margin-top: 10px;\n",
        "     margin-bottom:4px;\n",
        " }\n",
        "h3.answer {\n",
        "     background-color: skyblue; \n",
        "     color: black; \n",
        "     padding: 8px; \n",
        "     padding-right: 30px; \n",
        "     font-size: 20px; \n",
        "     max-width: 1500px; \n",
        "     margin-top: 4px;\n",
        "     margin-bottom:4px;\n",
        " }\n",
        "</style>"
      ],
      "execution_count": 0,
      "outputs": []
    },
    {
      "cell_type": "code",
      "metadata": {
        "id": "BcFnKEP9zFwu",
        "colab_type": "code",
        "outputId": "23a351ad-b395-4115-d2d1-be8e04b41410",
        "colab": {
          "base_uri": "https://localhost:8080/",
          "height": 1000
        }
      },
      "source": [
        "print_queries(queries,1)"
      ],
      "execution_count": 0,
      "outputs": [
        {
          "output_type": "display_data",
          "data": {
            "text/html": [
              "<h2 class=\"question\" > QUERY: 1: \n",
              " What is optimal quarantine period for coronavirus COVID-19 \n",
              "</h2>"
            ],
            "text/plain": [
              "<IPython.core.display.HTML object>"
            ]
          },
          "metadata": {
            "tags": []
          }
        },
        {
          "output_type": "display_data",
          "data": {
            "text/html": [
              "<h3 class=\"answer\">ANSWER: 1: \n",
              " not too long but sufficient to contain the epidemics </h3>"
            ],
            "text/plain": [
              "<IPython.core.display.HTML object>"
            ]
          },
          "metadata": {
            "tags": []
          }
        },
        {
          "output_type": "display_data",
          "data": {
            "text/html": [
              "<h4 >TITLE: 1: \n",
              " Optimal Time Delay in the Control of Epidemic </h4> "
            ],
            "text/plain": [
              "<IPython.core.display.HTML object>"
            ]
          },
          "metadata": {
            "tags": []
          }
        },
        {
          "output_type": "display_data",
          "data": {
            "text/html": [
              "<h4 >DESCRIBED IN PAPER: \n",
              "</h4>  Here we seek a general model to describe the mathematical consequence of slow identification of the infected (large time delay for isolation) and the short quarantine period, thereby deriving a general guideline for the calculation of the optimal time delay (not the shortest) and the proper quarantine period (not too long but sufficient to contain the epidemics) "
            ],
            "text/plain": [
              "<IPython.core.display.HTML object>"
            ]
          },
          "metadata": {
            "tags": []
          }
        },
        {
          "output_type": "display_data",
          "data": {
            "text/html": [
              "<h3 class=\"answer\">ANSWER: 2: \n",
              " not too long but sufficient to contain the epidemics </h3>"
            ],
            "text/plain": [
              "<IPython.core.display.HTML object>"
            ]
          },
          "metadata": {
            "tags": []
          }
        },
        {
          "output_type": "display_data",
          "data": {
            "text/html": [
              "<h4 >TITLE: 2: \n",
              " Optimal Time Delay in the Control of Epidemic </h4> "
            ],
            "text/plain": [
              "<IPython.core.display.HTML object>"
            ]
          },
          "metadata": {
            "tags": []
          }
        },
        {
          "output_type": "display_data",
          "data": {
            "text/html": [
              "<h4 >DESCRIBED IN PAPER: \n",
              "</h4>  Here we seek a general model to describe the mathematical consequence of slow identification of the infected (large time delay for isolation) and the short quarantine period, thereby deriving a general guideline for the calculation of the optimal time delay (not the shortest) and the proper quarantine period (not too long but sufficient to contain the epidemics) "
            ],
            "text/plain": [
              "<IPython.core.display.HTML object>"
            ]
          },
          "metadata": {
            "tags": []
          }
        },
        {
          "output_type": "display_data",
          "data": {
            "text/html": [
              "<h3 class=\"answer\">ANSWER: 3: \n",
              " 14 days </h3>"
            ],
            "text/plain": [
              "<IPython.core.display.HTML object>"
            ]
          },
          "metadata": {
            "tags": []
          }
        },
        {
          "output_type": "display_data",
          "data": {
            "text/html": [
              "<h4 >TITLE: 3: \n",
              " nan </h4> "
            ],
            "text/plain": [
              "<IPython.core.display.HTML object>"
            ]
          },
          "metadata": {
            "tags": []
          }
        },
        {
          "output_type": "display_data",
          "data": {
            "text/html": [
              "<h4 >DESCRIBED IN PAPER: \n",
              "</h4>  These responses can stem from either events happening in one's own life (e.g., a family member being diagnosed with COVID-19 , or fear of losing a loved one), one's work environment (new protocols to follow, ever-changing and unclear guidance on personal protective equipment), or the interplay of both (being exposed to a patient with COVID-19 at work, and then having to quarantine and isolate oneself from family for 14 days) "
            ],
            "text/plain": [
              "<IPython.core.display.HTML object>"
            ]
          },
          "metadata": {
            "tags": []
          }
        },
        {
          "output_type": "display_data",
          "data": {
            "text/html": [
              "<h2 class=\"question\" > QUERY: 2: \n",
              " What is range of incubation period for coronavirus SARS-CoV-2 COVID-19 in humans \n",
              "</h2>"
            ],
            "text/plain": [
              "<IPython.core.display.HTML object>"
            ]
          },
          "metadata": {
            "tags": []
          }
        },
        {
          "output_type": "display_data",
          "data": {
            "text/html": [
              "<h3 class=\"answer\">ANSWER: 1: \n",
              " 1 to 4 days </h3>"
            ],
            "text/plain": [
              "<IPython.core.display.HTML object>"
            ]
          },
          "metadata": {
            "tags": []
          }
        },
        {
          "output_type": "display_data",
          "data": {
            "text/html": [
              "<h4 >TITLE: 1: \n",
              " In-Silico evidence for two receptors based strategy of SARS-CoV-2 </h4> "
            ],
            "text/plain": [
              "<IPython.core.display.HTML object>"
            ]
          },
          "metadata": {
            "tags": []
          }
        },
        {
          "output_type": "display_data",
          "data": {
            "text/html": [
              "<h4 >DESCRIBED IN PAPER: \n",
              "</h4>  The COVID-19 outbreak represents a serious threat to public health [3] , and the World Health Organization officially declared it a pandemic.To date 7 coronavirus strains are known to infect humans and no approved therapies or vaccine against them are available [3] .In the past two decades, in addition to SARS-CoV-2, two other β-coronavirus have caused three of the most severe epidemics worldwide: SARS-CoV [4, 5] and MERS-CoV [6] which respectively cause the Severe Acute Respiratory Syndrome (SARS), and the Middle East Respiratory Syndrome (MERS).The characteristics of the interactions between these viruses and the human cell receptors are being carefully studied to shed light on both diffusion speed and mortality rate differences between SARS-CoV-2 and the others, with special regard to SARS-CoV.Indeed, SARS-CoV spread across 26 countries in six continents and caused a total of 8,096 cases and 774 deaths (9.6%) [7] , with an incubation period of 1 to 4 days [8] "
            ],
            "text/plain": [
              "<IPython.core.display.HTML object>"
            ]
          },
          "metadata": {
            "tags": []
          }
        },
        {
          "output_type": "display_data",
          "data": {
            "text/html": [
              "<h3 class=\"answer\">ANSWER: 2: \n",
              " 1 to 4 days </h3>"
            ],
            "text/plain": [
              "<IPython.core.display.HTML object>"
            ]
          },
          "metadata": {
            "tags": []
          }
        },
        {
          "output_type": "display_data",
          "data": {
            "text/html": [
              "<h4 >TITLE: 2: \n",
              " In-Silico evidence for two receptors based strategy of SARS-CoV-2 </h4> "
            ],
            "text/plain": [
              "<IPython.core.display.HTML object>"
            ]
          },
          "metadata": {
            "tags": []
          }
        },
        {
          "output_type": "display_data",
          "data": {
            "text/html": [
              "<h4 >DESCRIBED IN PAPER: \n",
              "</h4>  The COVID-19 outbreak represents a serious threat to public health [3] , and the World Health Organization officially declared it a pandemic.To date 7 coronavirus strains are known to infect humans and no approved therapies or vaccine against them are available [3] .In the past two decades, in addition to SARS-CoV-2, two other β-coronavirus have caused three of the most severe epidemics worldwide: SARS-CoV [4, 5] and MERS-CoV [6] which respectively cause the Severe Acute Respiratory Syndrome (SARS), and the Middle East Respiratory Syndrome (MERS).The characteristics of the interactions between these viruses and the human cell receptors are being carefully studied to shed light on both diffusion speed and mortality rate differences between SARS-CoV-2 and the others, with special regard to SARS-CoV.Indeed, SARS-CoV spread across 26 countries in six continents and caused a total of 8,096 cases and 774 deaths (9.6%) [7] , with an incubation period of 1 to 4 days [8] "
            ],
            "text/plain": [
              "<IPython.core.display.HTML object>"
            ]
          },
          "metadata": {
            "tags": []
          }
        },
        {
          "output_type": "display_data",
          "data": {
            "text/html": [
              "<h3 class=\"answer\">ANSWER: 3: \n",
              " 0 to 33 days </h3>"
            ],
            "text/plain": [
              "<IPython.core.display.HTML object>"
            ]
          },
          "metadata": {
            "tags": []
          }
        },
        {
          "output_type": "display_data",
          "data": {
            "text/html": [
              "<h4 >TITLE: 3: \n",
              " nan </h4> "
            ],
            "text/plain": [
              "<IPython.core.display.HTML object>"
            ]
          },
          "metadata": {
            "tags": []
          }
        },
        {
          "output_type": "display_data",
          "data": {
            "text/html": [
              "<h4 >DESCRIBED IN PAPER: \n",
              "</h4>  For example, consider these snippets from a randomly selected paper 38 on the topic of incubation period:The full range of incubation periods of the Covid-19 cases ranged from 0 to 33 days among 2015 cases.The median incubation period of both male and female adults was similar (7-day) but significantly shorter than that (9-day) of child cases (P=0.02).Interestingly, incubation periods of 233 cases (11.6%) were longer than the WHO-established quarantine period (14 days) "
            ],
            "text/plain": [
              "<IPython.core.display.HTML object>"
            ]
          },
          "metadata": {
            "tags": []
          }
        },
        {
          "output_type": "display_data",
          "data": {
            "text/html": [
              "<h2 class=\"question\" > QUERY: 3: \n",
              " What is effective quarantine period for coronavirus COVID-19 \n",
              "</h2>"
            ],
            "text/plain": [
              "<IPython.core.display.HTML object>"
            ]
          },
          "metadata": {
            "tags": []
          }
        },
        {
          "output_type": "display_data",
          "data": {
            "text/html": [
              "<h3 class=\"answer\">ANSWER: 1: \n",
              " 14 days </h3>"
            ],
            "text/plain": [
              "<IPython.core.display.HTML object>"
            ]
          },
          "metadata": {
            "tags": []
          }
        },
        {
          "output_type": "display_data",
          "data": {
            "text/html": [
              "<h4 >TITLE: 1: \n",
              " nan </h4> "
            ],
            "text/plain": [
              "<IPython.core.display.HTML object>"
            ]
          },
          "metadata": {
            "tags": []
          }
        },
        {
          "output_type": "display_data",
          "data": {
            "text/html": [
              "<h4 >DESCRIBED IN PAPER: \n",
              "</h4>  These responses can stem from either events happening in one's own life (e.g., a family member being diagnosed with COVID-19 , or fear of losing a loved one), one's work environment (new protocols to follow, ever-changing and unclear guidance on personal protective equipment), or the interplay of both (being exposed to a patient with COVID-19 at work, and then having to quarantine and isolate oneself from family for 14 days) "
            ],
            "text/plain": [
              "<IPython.core.display.HTML object>"
            ]
          },
          "metadata": {
            "tags": []
          }
        },
        {
          "output_type": "display_data",
          "data": {
            "text/html": [
              "<h3 class=\"answer\">ANSWER: 2: \n",
              " not too long but sufficient to contain the epidemics </h3>"
            ],
            "text/plain": [
              "<IPython.core.display.HTML object>"
            ]
          },
          "metadata": {
            "tags": []
          }
        },
        {
          "output_type": "display_data",
          "data": {
            "text/html": [
              "<h4 >TITLE: 2: \n",
              " Optimal Time Delay in the Control of Epidemic </h4> "
            ],
            "text/plain": [
              "<IPython.core.display.HTML object>"
            ]
          },
          "metadata": {
            "tags": []
          }
        },
        {
          "output_type": "display_data",
          "data": {
            "text/html": [
              "<h4 >DESCRIBED IN PAPER: \n",
              "</h4>  Here we seek a general model to describe the mathematical consequence of slow identification of the infected (large time delay for isolation) and the short quarantine period, thereby deriving a general guideline for the calculation of the optimal time delay (not the shortest) and the proper quarantine period (not too long but sufficient to contain the epidemics) "
            ],
            "text/plain": [
              "<IPython.core.display.HTML object>"
            ]
          },
          "metadata": {
            "tags": []
          }
        },
        {
          "output_type": "display_data",
          "data": {
            "text/html": [
              "<h3 class=\"answer\">ANSWER: 3: \n",
              " 14 days </h3>"
            ],
            "text/plain": [
              "<IPython.core.display.HTML object>"
            ]
          },
          "metadata": {
            "tags": []
          }
        },
        {
          "output_type": "display_data",
          "data": {
            "text/html": [
              "<h4 >TITLE: 3: \n",
              " nan </h4> "
            ],
            "text/plain": [
              "<IPython.core.display.HTML object>"
            ]
          },
          "metadata": {
            "tags": []
          }
        },
        {
          "output_type": "display_data",
          "data": {
            "text/html": [
              "<h4 >DESCRIBED IN PAPER: \n",
              "</h4>  For example, consider these snippets from a randomly selected paper 38 on the topic of incubation period:The full range of incubation periods of the Covid-19 cases ranged from 0 to 33 days among 2015 cases.The median incubation period of both male and female adults was similar (7-day) but significantly shorter than that (9-day) of child cases (P=0.02).Interestingly, incubation periods of 233 cases (11.6%) were longer than the WHO-established quarantine period (14 days) "
            ],
            "text/plain": [
              "<IPython.core.display.HTML object>"
            ]
          },
          "metadata": {
            "tags": []
          }
        },
        {
          "output_type": "display_data",
          "data": {
            "text/html": [
              "<h2 class=\"question\" > QUERY: 4: \n",
              " What is percentage of death cases for coronavirus SARS-CoV-2 COVID-19 \n",
              "</h2>"
            ],
            "text/plain": [
              "<IPython.core.display.HTML object>"
            ]
          },
          "metadata": {
            "tags": []
          }
        },
        {
          "output_type": "display_data",
          "data": {
            "text/html": [
              "<h3 class=\"answer\">ANSWER: 1: \n",
              " 9·6% </h3>"
            ],
            "text/plain": [
              "<IPython.core.display.HTML object>"
            ]
          },
          "metadata": {
            "tags": []
          }
        },
        {
          "output_type": "display_data",
          "data": {
            "text/html": [
              "<h4 >TITLE: 1: \n",
              " Middle East respiratory syndrome </h4> "
            ],
            "text/plain": [
              "<IPython.core.display.HTML object>"
            ]
          },
          "metadata": {
            "tags": []
          }
        },
        {
          "output_type": "display_data",
          "data": {
            "text/html": [
              "<h4 >DESCRIBED IN PAPER: \n",
              "</h4>  3 All three causative coronaviruses, respectively, SARS-CoV, MERS-CoV, and SARS-related coronavirus-2 (SARS-CoV-2) have focused the attention of global public health authorities and are listed in the WHO Blueprint list for priority pathogens 4 because of their pandemic potential, threat to global health security, and the absence of any effective treatments.SARS-CoV was first identified in humans in Guangdong, China, in November, 2002 and subsequently spread rapidly worldwide to 29 countries, resulting in 8098 human SARS cases with 774 deaths (9·6% mortality) "
            ],
            "text/plain": [
              "<IPython.core.display.HTML object>"
            ]
          },
          "metadata": {
            "tags": []
          }
        },
        {
          "output_type": "display_data",
          "data": {
            "text/html": [
              "<h3 class=\"answer\">ANSWER: 2: \n",
              " 10% </h3>"
            ],
            "text/plain": [
              "<IPython.core.display.HTML object>"
            ]
          },
          "metadata": {
            "tags": []
          }
        },
        {
          "output_type": "display_data",
          "data": {
            "text/html": [
              "<h4 >TITLE: 2: \n",
              " Journal Pre-proof Epidemic update of COVID-19 in Hubei Province compared with other regions in China </h4> "
            ],
            "text/plain": [
              "<IPython.core.display.HTML object>"
            ]
          },
          "metadata": {
            "tags": []
          }
        },
        {
          "output_type": "display_data",
          "data": {
            "text/html": [
              "<h4 >DESCRIBED IN PAPER: \n",
              "</h4>  Most human coronavirus infections are mild, except for two beta-coronaviruses, the severe acute respiratory syndrome coronavirus (SARS-CoV) [5] [6] [7] and the Middle East respiratory syndrome coronavirus (MERS-CoV), [8, 9] which have caused more than 10,000 cumulative cases in the past, with mortality rates of 10% for the SARS-CoV and 37% for the MERS-CoV "
            ],
            "text/plain": [
              "<IPython.core.display.HTML object>"
            ]
          },
          "metadata": {
            "tags": []
          }
        },
        {
          "output_type": "display_data",
          "data": {
            "text/html": [
              "<h3 class=\"answer\">ANSWER: 3: \n",
              " 60.9% </h3>"
            ],
            "text/plain": [
              "<IPython.core.display.HTML object>"
            ]
          },
          "metadata": {
            "tags": []
          }
        },
        {
          "output_type": "display_data",
          "data": {
            "text/html": [
              "<h4 >TITLE: 3: \n",
              " To appear in: Nutrition, Metabolism and Cardiovascular Diseases </h4> "
            ],
            "text/plain": [
              "<IPython.core.display.HTML object>"
            ]
          },
          "metadata": {
            "tags": []
          }
        },
        {
          "output_type": "display_data",
          "data": {
            "text/html": [
              "<h4 >DESCRIBED IN PAPER: \n",
              "</h4>  It is so important to early identify those patients with acquired quarantine measures.When COVID-19 patients show increased respiratory rate, lower blood pressure and even shock, Electrocardiogram (ECG) with prolonged QRS interval,  Management of hypertensive patients The clinical characteristics of COVID-19 patients showed that hypertension was closely related with the severity of COVID-19 infection; 20%-30% in in-patients, 58.3% in the intensive care unit (ICU) patients, and 60.9% in the death cases "
            ],
            "text/plain": [
              "<IPython.core.display.HTML object>"
            ]
          },
          "metadata": {
            "tags": []
          }
        },
        {
          "output_type": "display_data",
          "data": {
            "text/html": [
              "<h2 class=\"question\" > QUERY: 5: \n",
              " What is death rate for coronavirus COVID-19 and air pollution \n",
              "</h2>"
            ],
            "text/plain": [
              "<IPython.core.display.HTML object>"
            ]
          },
          "metadata": {
            "tags": []
          }
        },
        {
          "output_type": "display_data",
          "data": {
            "text/html": [
              "<h3 class=\"answer\">ANSWER: 1: \n",
              " 20 times the one estimated for all-cause mortality </h3>"
            ],
            "text/plain": [
              "<IPython.core.display.HTML object>"
            ]
          },
          "metadata": {
            "tags": []
          }
        },
        {
          "output_type": "display_data",
          "data": {
            "text/html": [
              "<h4 >TITLE: 1: \n",
              " Exposure to air pollution and COVID-19 mortality in the United States </h4> "
            ],
            "text/plain": [
              "<IPython.core.display.HTML object>"
            ]
          },
          "metadata": {
            "tags": []
          }
        },
        {
          "output_type": "display_data",
          "data": {
            "text/html": [
              "<h4 >DESCRIBED IN PAPER: \n",
              "</h4>  Therefore, a small increase in long-term exposure to PM 2.5 leads to a large increase in COVID-19 death rate of a magnitude that is 20 times the one estimated for all-cause mortality.This analysis provides a timely characterization of the relationship between historical exposure to air pollution COVID-19 deaths in the United States "
            ],
            "text/plain": [
              "<IPython.core.display.HTML object>"
            ]
          },
          "metadata": {
            "tags": []
          }
        },
        {
          "output_type": "display_data",
          "data": {
            "text/html": [
              "<h3 class=\"answer\">ANSWER: 2: \n",
              " 14.2% </h3>"
            ],
            "text/plain": [
              "<IPython.core.display.HTML object>"
            ]
          },
          "metadata": {
            "tags": []
          }
        },
        {
          "output_type": "display_data",
          "data": {
            "text/html": [
              "<h4 >TITLE: 2: \n",
              " Journal Pre-proof Brief recommendations on the management of adult patients with familial hypercholesterolemia during the COVID-19 pandemic Brief recommendations on the management of adult patients with familial hypercholesterolemia during the COVID-19 pandemic </h4> "
            ],
            "text/plain": [
              "<IPython.core.display.HTML object>"
            ]
          },
          "metadata": {
            "tags": []
          }
        },
        {
          "output_type": "display_data",
          "data": {
            "text/html": [
              "<h4 >DESCRIBED IN PAPER: \n",
              "</h4>  The aim of this document is to share practical recommendations about the management of FH patients and optimisation of their treatment during the COVID-19 pandemic.The pandemic of a new coronavirus is a great challenge for healthcare systems worldwide, Observational data allows us tentatively to identify patients at the highest risk of severe consequences resulting from COVID-19, which includes those over 75 years of age (death rate: 14.2%), with baseline cardiovascular disease (CVD) (>13% for confirmed cases), with diabetes (9.2%), chronic respiratory disease, hypertension and cancer (death rate 7.5% for all) [3] "
            ],
            "text/plain": [
              "<IPython.core.display.HTML object>"
            ]
          },
          "metadata": {
            "tags": []
          }
        },
        {
          "output_type": "display_data",
          "data": {
            "text/html": [
              "<h3 class=\"answer\">ANSWER: 3: \n",
              " 2-3 per 100 </h3>"
            ],
            "text/plain": [
              "<IPython.core.display.HTML object>"
            ]
          },
          "metadata": {
            "tags": []
          }
        },
        {
          "output_type": "display_data",
          "data": {
            "text/html": [
              "<h4 >TITLE: 3: \n",
              " Editorial Commentary </h4> "
            ],
            "text/plain": [
              "<IPython.core.display.HTML object>"
            ]
          },
          "metadata": {
            "tags": []
          }
        },
        {
          "output_type": "display_data",
          "data": {
            "text/html": [
              "<h4 >DESCRIBED IN PAPER: \n",
              "</h4>  Based on the current numbers for COVID-19 (death rate of 2-3 per 100) the new coronavirus appears less deadly than SARS (mortality~1 in 10) or MERS (mortality~3/10), but more deadly than seasonal flu (mortality~0.5 to 1 per 1000).While SARS-CoV-2 is spreading at alarming rates in China, there has not yet been sustained human-to-human transmission outside of China "
            ],
            "text/plain": [
              "<IPython.core.display.HTML object>"
            ]
          },
          "metadata": {
            "tags": []
          }
        },
        {
          "output_type": "display_data",
          "data": {
            "text/html": [
              "<h2 class=\"question\" > QUERY: 6: \n",
              " At which temperature coronavirus COVID-19 can survive \n",
              "</h2>"
            ],
            "text/plain": [
              "<IPython.core.display.HTML object>"
            ]
          },
          "metadata": {
            "tags": []
          }
        },
        {
          "output_type": "display_data",
          "data": {
            "text/html": [
              "<h3 class=\"answer\">ANSWER: 1: \n",
              " between 13-19°C </h3>"
            ],
            "text/plain": [
              "<IPython.core.display.HTML object>"
            ]
          },
          "metadata": {
            "tags": []
          }
        },
        {
          "output_type": "display_data",
          "data": {
            "text/html": [
              "<h4 >TITLE: 1: \n",
              " Will COVID-19 pandemic diminish by summer-monsoon in India? Lesson from the first lockdown </h4> "
            ],
            "text/plain": [
              "<IPython.core.display.HTML object>"
            ]
          },
          "metadata": {
            "tags": []
          }
        },
        {
          "output_type": "display_data",
          "data": {
            "text/html": [
              "<h4 >DESCRIBED IN PAPER: \n",
              "</h4>  1101 similarities to the other studies done earlier on COVID-19 cases in China, Europe, and the USA.Studying Wuhan, Guangzhou, and Beijing COVID-19 cased Bu et al., (2020) found a meteorological condition with the temperature between 13-19°C and humidity between 50% and 80% was suitable for the survival and transmission of the coronavirus "
            ],
            "text/plain": [
              "<IPython.core.display.HTML object>"
            ]
          },
          "metadata": {
            "tags": []
          }
        },
        {
          "output_type": "display_data",
          "data": {
            "text/html": [
              "<h3 class=\"answer\">ANSWER: 2: \n",
              " 3 to 17 ºC </h3>"
            ],
            "text/plain": [
              "<IPython.core.display.HTML object>"
            ]
          },
          "metadata": {
            "tags": []
          }
        },
        {
          "output_type": "display_data",
          "data": {
            "text/html": [
              "<h4 >TITLE: 2: \n",
              " Relationship between Average Daily Temperature and Average Cumulative Daily Rate of Confirmed Cases of COVID-19 </h4> "
            ],
            "text/plain": [
              "<IPython.core.display.HTML object>"
            ]
          },
          "metadata": {
            "tags": []
          }
        },
        {
          "output_type": "display_data",
          "data": {
            "text/html": [
              "<h4 >DESCRIBED IN PAPER: \n",
              "</h4>  Bukhari et al., (2020) , studied the epidemic of COVID-19 on tropical zones and their results show that the highest number of infection happened in temperature among 3 to 17 ºC [19] .The analysis of Grant and Giovannucci (2009) shows that by increasing the UV, the level of vitamin D in the body increases and makes the infection rates decrease "
            ],
            "text/plain": [
              "<IPython.core.display.HTML object>"
            ]
          },
          "metadata": {
            "tags": []
          }
        },
        {
          "output_type": "display_data",
          "data": {
            "text/html": [
              "<h3 class=\"answer\">ANSWER: 3: \n",
              " airborne </h3>"
            ],
            "text/plain": [
              "<IPython.core.display.HTML object>"
            ]
          },
          "metadata": {
            "tags": []
          }
        },
        {
          "output_type": "display_data",
          "data": {
            "text/html": [
              "<h4 >TITLE: 3: \n",
              " Hydroxychloroquine Versus COVID-19: A Rapid Systematic Review and Meta-Analysis Hydroxychloroquine Versus COVID-19: A Rapid Systematic Review and Meta-Analysis </h4> "
            ],
            "text/plain": [
              "<IPython.core.display.HTML object>"
            ]
          },
          "metadata": {
            "tags": []
          }
        },
        {
          "output_type": "display_data",
          "data": {
            "text/html": [
              "<h4 >DESCRIBED IN PAPER: \n",
              "</h4>  Will coronavirus survive airborne? Is COVID-19 transmitted vertically in pregnancy? Should everyone be wearing masks? How long can the virus survive on surfaces? Is it possible to get COVID-19 for a second time? And etc.).In this regard, one of the hottest controversies is the hydroxychloroquine (HCQ) efficacy for the COVID-19 patients "
            ],
            "text/plain": [
              "<IPython.core.display.HTML object>"
            ]
          },
          "metadata": {
            "tags": []
          }
        },
        {
          "output_type": "display_data",
          "data": {
            "text/html": [
              "<h2 class=\"question\" > QUERY: 7: \n",
              " How long coronavirus SARS-CoV-2 can survive on plastic surface \n",
              "</h2>"
            ],
            "text/plain": [
              "<IPython.core.display.HTML object>"
            ]
          },
          "metadata": {
            "tags": []
          }
        },
        {
          "output_type": "display_data",
          "data": {
            "text/html": [
              "<h3 class=\"answer\">ANSWER: 1: \n",
              " up to nine days </h3>"
            ],
            "text/plain": [
              "<IPython.core.display.HTML object>"
            ]
          },
          "metadata": {
            "tags": []
          }
        },
        {
          "output_type": "display_data",
          "data": {
            "text/html": [
              "<h4 >TITLE: 1: \n",
              " COVID-19 pandemic and the stethoscope: don't forget to sanitize </h4> "
            ],
            "text/plain": [
              "<IPython.core.display.HTML object>"
            ]
          },
          "metadata": {
            "tags": []
          }
        },
        {
          "output_type": "display_data",
          "data": {
            "text/html": [
              "<h4 >DESCRIBED IN PAPER: \n",
              "</h4>  5 This has raised concern regarding nosocomial transmission and supports public health officials' urging of the public to sanitize their hands frequently when coming into contact with public surfaces.Other coronaviruses such as the Middle East Respiratory Syndrome (MERS) coronavirus and SARS-CoV-1, have been reported to remain viable on inanimate surfaces such as glass, plastic or metal for up to nine days, but can be inactivated by alcohol solutions, hydrogen peroxide, and sodium hypochlorite "
            ],
            "text/plain": [
              "<IPython.core.display.HTML object>"
            ]
          },
          "metadata": {
            "tags": []
          }
        },
        {
          "output_type": "display_data",
          "data": {
            "text/html": [
              "<h3 class=\"answer\">ANSWER: 2: \n",
              " 72-120 h </h3>"
            ],
            "text/plain": [
              "<IPython.core.display.HTML object>"
            ]
          },
          "metadata": {
            "tags": []
          }
        },
        {
          "output_type": "display_data",
          "data": {
            "text/html": [
              "<h4 >TITLE: 2: \n",
              " Clinical management and infection control of SARS: Lessons learned </h4> "
            ],
            "text/plain": [
              "<IPython.core.display.HTML object>"
            ]
          },
          "metadata": {
            "tags": []
          }
        },
        {
          "output_type": "display_data",
          "data": {
            "text/html": [
              "<h4 >DESCRIBED IN PAPER: \n",
              "</h4>  However, transmission of SARS-CoV by indirect contact with contaminated environment might be one of the possibilities, as SARS-CoV can survive in the environment for 72-120 h (Chan et al., 2011; Duan et al., 2003) , while infectivity is retained for up to 6 days on a dried surface (Rabenau et al., 2005) .Hospital design with augmented air changes may be protective against nosocomial transmission of SARS "
            ],
            "text/plain": [
              "<IPython.core.display.HTML object>"
            ]
          },
          "metadata": {
            "tags": []
          }
        },
        {
          "output_type": "display_data",
          "data": {
            "text/html": [
              "<h3 class=\"answer\">ANSWER: 3: \n",
              " 72 hours </h3>"
            ],
            "text/plain": [
              "<IPython.core.display.HTML object>"
            ]
          },
          "metadata": {
            "tags": []
          }
        },
        {
          "output_type": "display_data",
          "data": {
            "text/html": [
              "<h4 >TITLE: 3: \n",
              " Recommendations for a safety dental care management during SARS-CoV-2 pandemic </h4> "
            ],
            "text/plain": [
              "<IPython.core.display.HTML object>"
            ]
          },
          "metadata": {
            "tags": []
          }
        },
        {
          "output_type": "display_data",
          "data": {
            "text/html": [
              "<h4 >DESCRIBED IN PAPER: \n",
              "</h4>  • To clean and disinfect environmental surfaces and patientcare equipment using hospital grade germicides (quaternary ammonium-based, phenol-based, and alcohol-based products), as the SARS-CoV-2 can survive for 72 hours on surfaces of stainless steel and plastic, 24 hours in cardboard and from 40 minutes to 2 hours 30 minutes in aerosolized form or in dust (25) "
            ],
            "text/plain": [
              "<IPython.core.display.HTML object>"
            ]
          },
          "metadata": {
            "tags": []
          }
        },
        {
          "output_type": "display_data",
          "data": {
            "text/html": [
              "<h2 class=\"question\" > QUERY: 8: \n",
              " What are risk factors for coronavirus COVID-19 \n",
              "</h2>"
            ],
            "text/plain": [
              "<IPython.core.display.HTML object>"
            ]
          },
          "metadata": {
            "tags": []
          }
        },
        {
          "output_type": "display_data",
          "data": {
            "text/html": [
              "<h3 class=\"answer\">ANSWER: 1: \n",
              " age, gender, and obesity </h3>"
            ],
            "text/plain": [
              "<IPython.core.display.HTML object>"
            ]
          },
          "metadata": {
            "tags": []
          }
        },
        {
          "output_type": "display_data",
          "data": {
            "text/html": [
              "<h4 >TITLE: 1: \n",
              " To appear in: Nutrition, Metabolism and Cardiovascular Diseases </h4> "
            ],
            "text/plain": [
              "<IPython.core.display.HTML object>"
            ]
          },
          "metadata": {
            "tags": []
          }
        },
        {
          "output_type": "display_data",
          "data": {
            "text/html": [
              "<h4 >DESCRIBED IN PAPER: \n",
              "</h4>  Therefore, in this study, we retrospectively analyzed the differences in basic characteristics and laboratory tests between the COVID-19 patients with and without CVD, and we tried to explain the differences.Previous studies suggested that age, gender, and obesity are risk factors for CVD, as well as the poor prognosis of COVID-19 [5] "
            ],
            "text/plain": [
              "<IPython.core.display.HTML object>"
            ]
          },
          "metadata": {
            "tags": []
          }
        },
        {
          "output_type": "display_data",
          "data": {
            "text/html": [
              "<h3 class=\"answer\">ANSWER: 2: \n",
              " older age, cardiovascular disease, hypertension, lung disease, diabetes, or cancer </h3>"
            ],
            "text/plain": [
              "<IPython.core.display.HTML object>"
            ]
          },
          "metadata": {
            "tags": []
          }
        },
        {
          "output_type": "display_data",
          "data": {
            "text/html": [
              "<h4 >TITLE: 2: \n",
              " Novel Coronavirus Disease (COVID-19) and Biologic Therapy in Psoriasis: Infection Risk and Patient Counseling in Uncertain Times </h4> "
            ],
            "text/plain": [
              "<IPython.core.display.HTML object>"
            ]
          },
          "metadata": {
            "tags": []
          }
        },
        {
          "output_type": "display_data",
          "data": {
            "text/html": [
              "<h4 >DESCRIBED IN PAPER: \n",
              "</h4>  There is no evidence to recommend prophylactically stopping or postponing biologic therapy in all patients with psoriasis; however, patients should have individualized discussions with their medical providers taking into account the following factors:• COVID-19 risk factors such as older age, cardiovascular disease, hypertension, lung disease, diabetes, or cancer • Severity of underlying psoriasis or psoriatic arthritis • Concomitant immunosuppressive medications or conditions • Risk of exposure to COVID-19 based on occupation or living situation 3 "
            ],
            "text/plain": [
              "<IPython.core.display.HTML object>"
            ]
          },
          "metadata": {
            "tags": []
          }
        },
        {
          "output_type": "display_data",
          "data": {
            "text/html": [
              "<h3 class=\"answer\">ANSWER: 3: \n",
              " infant mortality rate and poverty risk rate </h3>"
            ],
            "text/plain": [
              "<IPython.core.display.HTML object>"
            ]
          },
          "metadata": {
            "tags": []
          }
        },
        {
          "output_type": "display_data",
          "data": {
            "text/html": [
              "<h4 >TITLE: 3: \n",
              " Investigating spatial variability in COVID-19 pandemic severity across 19 geographic areas, Spain, 2020 </h4> "
            ],
            "text/plain": [
              "<IPython.core.display.HTML object>"
            ]
          },
          "metadata": {
            "tags": []
          }
        },
        {
          "output_type": "display_data",
          "data": {
            "text/html": [
              "<h4 >DESCRIBED IN PAPER: \n",
              "</h4>  Our findings suggest a significant association of factors such as infant mortality rate and poverty risk rate with the increased risk of death due to COVID-19.Further studies with patient level data on mortality, and risk factors could provide a more detailed understanding of the factors shaping the risk of death related to COVID-19 "
            ],
            "text/plain": [
              "<IPython.core.display.HTML object>"
            ]
          },
          "metadata": {
            "tags": []
          }
        },
        {
          "output_type": "display_data",
          "data": {
            "text/html": [
              "<h2 class=\"question\" > QUERY: 9: \n",
              " What is origin of coronavirus COVID-19 \n",
              "</h2>"
            ],
            "text/plain": [
              "<IPython.core.display.HTML object>"
            ]
          },
          "metadata": {
            "tags": []
          }
        },
        {
          "output_type": "display_data",
          "data": {
            "text/html": [
              "<h3 class=\"answer\">ANSWER: 1: \n",
              " CT images </h3>"
            ],
            "text/plain": [
              "<IPython.core.display.HTML object>"
            ]
          },
          "metadata": {
            "tags": []
          }
        },
        {
          "output_type": "display_data",
          "data": {
            "text/html": [
              "<h4 >TITLE: 1: \n",
              " DISTINGUISHING L AND H PHENOTYPES OF COVID-19 USING A SINGLE X-RAY IMAGE </h4> "
            ],
            "text/plain": [
              "<IPython.core.display.HTML object>"
            ]
          },
          "metadata": {
            "tags": []
          }
        },
        {
          "output_type": "display_data",
          "data": {
            "text/html": [
              "<h4 >DESCRIBED IN PAPER: \n",
              "</h4>  Here, we introduce a machine-learned early detection system to identify COVID-19 and differentiate its L and H phenotypes using conventional chest x-rays.That this is possible comes from the origin of CT images: they are made from a collection of x-rays taken at different angles, each of which contains information on lung size, shape, and density "
            ],
            "text/plain": [
              "<IPython.core.display.HTML object>"
            ]
          },
          "metadata": {
            "tags": []
          }
        },
        {
          "output_type": "display_data",
          "data": {
            "text/html": [
              "<h3 class=\"answer\">ANSWER: 2: \n",
              " coronavirus SARS-CoV-2 </h3>"
            ],
            "text/plain": [
              "<IPython.core.display.HTML object>"
            ]
          },
          "metadata": {
            "tags": []
          }
        },
        {
          "output_type": "display_data",
          "data": {
            "text/html": [
              "<h4 >TITLE: 2: \n",
              " nan </h4> "
            ],
            "text/plain": [
              "<IPython.core.display.HTML object>"
            ]
          },
          "metadata": {
            "tags": []
          }
        },
        {
          "output_type": "display_data",
          "data": {
            "text/html": [
              "<h4 >DESCRIBED IN PAPER: \n",
              "</h4>  [1] .The article expounds the benefit of Traditional Chinese Medicine (TCM) for the treatment of the illness called COVID-19 resulting from the novel coronavirus SARS-CoV-2, stating, \"clinical practice results showed that traditional Chinese medicine (TCM) plays significant role in the treatment of COVID-19, bringing new hope for the prevention and control of COVID-19\" and that \"early intervention of TCM can effectively prevent the disease from transforming into severe and critical disease\" [1] "
            ],
            "text/plain": [
              "<IPython.core.display.HTML object>"
            ]
          },
          "metadata": {
            "tags": []
          }
        },
        {
          "output_type": "display_data",
          "data": {
            "text/html": [
              "<h3 class=\"answer\">ANSWER: 3: \n",
              " SARS-CoV-2 virus </h3>"
            ],
            "text/plain": [
              "<IPython.core.display.HTML object>"
            ]
          },
          "metadata": {
            "tags": []
          }
        },
        {
          "output_type": "display_data",
          "data": {
            "text/html": [
              "<h4 >TITLE: 3: \n",
              " The COVID-19 pandemic: implications for the cytology laboratory </h4> "
            ],
            "text/plain": [
              "<IPython.core.display.HTML object>"
            ]
          },
          "metadata": {
            "tags": []
          }
        },
        {
          "output_type": "display_data",
          "data": {
            "text/html": [
              "<h4 >DESCRIBED IN PAPER: \n",
              "</h4>  As the fears of a global coronavirus COVID-19 pandemic, a disease caused by the SARS-CoV-2 virus, continue to grow, the cytology laboratory must also brace itself to continue to offer the best service to patients, while protecting its technicians, technologists, trainees, and pathologists.Recently, a series of public health measures have been taken to reduce the spread of the disease "
            ],
            "text/plain": [
              "<IPython.core.display.HTML object>"
            ]
          },
          "metadata": {
            "tags": []
          }
        },
        {
          "output_type": "display_data",
          "data": {
            "text/html": [
              "<h2 class=\"question\" > QUERY: 10: \n",
              " At which temperature coronavirus cannot survive \n",
              "</h2>"
            ],
            "text/plain": [
              "<IPython.core.display.HTML object>"
            ]
          },
          "metadata": {
            "tags": []
          }
        },
        {
          "output_type": "display_data",
          "data": {
            "text/html": [
              "<h3 class=\"answer\">ANSWER: 1: \n",
              " À22°C to 60°C </h3>"
            ],
            "text/plain": [
              "<IPython.core.display.HTML object>"
            ]
          },
          "metadata": {
            "tags": []
          }
        },
        {
          "output_type": "display_data",
          "data": {
            "text/html": [
              "<h4 >TITLE: 1: \n",
              " Long-term production effects of clinical cryptosporidiosis in neonatal calves </h4> "
            ],
            "text/plain": [
              "<IPython.core.display.HTML object>"
            ]
          },
          "metadata": {
            "tags": []
          }
        },
        {
          "output_type": "display_data",
          "data": {
            "text/html": [
              "<h4 >DESCRIBED IN PAPER: \n",
              "</h4>  These may include the dose of the parasites that the calf receives (Zambrinski et al., 2013) ; the immune resilience of the calves; the uptake and quality of the colostrum (Megank et al., 2014) ; the nutritional status of the calf; the virulence of the parasite (Bouzid et al., 2013) and the occurrence of co-infections in the calves (Cho and Yoon, 2014) .Cryptosporidium parasites have the ability to survive many commonly used farm disinfectants and temperature extremes from À22°C to 60°C (Casemore, 1990; Fujino et al., 2002) , thus it is likely that a high proportion of animals would be exposed to the infection if the parasite is present on the farm.The multilocus genotype of C "
            ],
            "text/plain": [
              "<IPython.core.display.HTML object>"
            ]
          },
          "metadata": {
            "tags": []
          }
        },
        {
          "output_type": "display_data",
          "data": {
            "text/html": [
              "<h3 class=\"answer\">ANSWER: 2: \n",
              " 37.8°C </h3>"
            ],
            "text/plain": [
              "<IPython.core.display.HTML object>"
            ]
          },
          "metadata": {
            "tags": []
          }
        },
        {
          "output_type": "display_data",
          "data": {
            "text/html": [
              "<h4 >TITLE: 2: \n",
              " Asian Journal of Psychiatry </h4> "
            ],
            "text/plain": [
              "<IPython.core.display.HTML object>"
            ]
          },
          "metadata": {
            "tags": []
          }
        },
        {
          "output_type": "display_data",
          "data": {
            "text/html": [
              "<h4 >DESCRIBED IN PAPER: \n",
              "</h4>  The patient and 4 of his family members tested positive for severe acute respiratory syndrome coronavirus 2 (SARS-CoV-2) on nucleic acid tests performed by the Suining Center for Disease Control & Prevention, and then they were transferred to our hospital for quarantine and specialized treatment.The patient's characteristics included the following: temperature, 37.8°C; pulse, 101/min; respiration, 20/min; and blood pressure, 137/ 92 mmHg "
            ],
            "text/plain": [
              "<IPython.core.display.HTML object>"
            ]
          },
          "metadata": {
            "tags": []
          }
        },
        {
          "output_type": "display_data",
          "data": {
            "text/html": [
              "<h3 class=\"answer\">ANSWER: 3: \n",
              " 90°C </h3>"
            ],
            "text/plain": [
              "<IPython.core.display.HTML object>"
            ]
          },
          "metadata": {
            "tags": []
          }
        },
        {
          "output_type": "display_data",
          "data": {
            "text/html": [
              "<h4 >TITLE: 3: \n",
              " Introduction into nanotechnology and microbiology 1 </h4> "
            ],
            "text/plain": [
              "<IPython.core.display.HTML object>"
            ]
          },
          "metadata": {
            "tags": []
          }
        },
        {
          "output_type": "display_data",
          "data": {
            "text/html": [
              "<h4 >DESCRIBED IN PAPER: \n",
              "</h4>  For example, some species of microbes can survive well in extreme cold regions of Antarctica, while others survive in hot water springs at 90°C and above, in places with highly alkaline soils, high concentrations of heavy metals and Sulphur and in locations where no other forms of life can survive "
            ],
            "text/plain": [
              "<IPython.core.display.HTML object>"
            ]
          },
          "metadata": {
            "tags": []
          }
        }
      ]
    },
    {
      "cell_type": "code",
      "metadata": {
        "id": "nmI4OdiLpGqO",
        "colab_type": "code",
        "colab": {}
      },
      "source": [
        ""
      ],
      "execution_count": 0,
      "outputs": []
    },
    {
      "cell_type": "code",
      "metadata": {
        "id": "Rgiqj9VvpGmc",
        "colab_type": "code",
        "colab": {}
      },
      "source": [
        ""
      ],
      "execution_count": 0,
      "outputs": []
    }
  ]
}