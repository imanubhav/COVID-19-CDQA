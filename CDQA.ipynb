{
  "nbformat": 4,
  "nbformat_minor": 0,
  "metadata": {
    "colab": {
      "name": "CDQA PURE.ipynb",
      "provenance": [],
      "mount_file_id": "1qJfskpSMFgmvqRQmjmlf0noXq77WzVWX",
      "authorship_tag": "ABX9TyOwF9J5bxDyzkQ6eaXLocMA",
      "include_colab_link": true
    },
    "kernelspec": {
      "name": "python3",
      "display_name": "Python 3"
    },
    "accelerator": "GPU"
  },
  "cells": [
    {
      "cell_type": "markdown",
      "metadata": {
        "id": "view-in-github",
        "colab_type": "text"
      },
      "source": [
        "<a href=\"https://colab.research.google.com/github/imanubhav/KARUNA_GO/blob/master/CDQA.ipynb\" target=\"_parent\"><img src=\"https://colab.research.google.com/assets/colab-badge.svg\" alt=\"Open In Colab\"/></a>"
      ]
    },
    {
      "cell_type": "code",
      "metadata": {
        "id": "lvKVCATi51yg",
        "colab_type": "code",
        "colab": {}
      },
      "source": [
        "import pandas as pd\n",
        "import numpy as np"
      ],
      "execution_count": 0,
      "outputs": []
    },
    {
      "cell_type": "code",
      "metadata": {
        "id": "aJrj-xie4krO",
        "colab_type": "code",
        "colab": {}
      },
      "source": [
        "!pip install --upgrade pandas"
      ],
      "execution_count": 0,
      "outputs": []
    },
    {
      "cell_type": "code",
      "metadata": {
        "id": "25kwl8GO6Vud",
        "colab_type": "code",
        "colab": {}
      },
      "source": [
        "!pip3 install googletrans"
      ],
      "execution_count": 0,
      "outputs": []
    },
    {
      "cell_type": "code",
      "metadata": {
        "id": "3upoOWhD6lMl",
        "colab_type": "code",
        "colab": {}
      },
      "source": [
        "!pip3 install cdqa"
      ],
      "execution_count": 0,
      "outputs": []
    },
    {
      "cell_type": "code",
      "metadata": {
        "id": "tmHJLgly587K",
        "colab_type": "code",
        "colab": {}
      },
      "source": [
        "corpus=pd.read_csv(\"/content/drive/My Drive/Karuna/corpus.csv\",encoding='utf-8')"
      ],
      "execution_count": 0,
      "outputs": []
    },
    {
      "cell_type": "code",
      "metadata": {
        "id": "FCxZjxJa4BnJ",
        "colab_type": "code",
        "colab": {}
      },
      "source": [
        "# Colab library to upload files to notebook\n",
        "from google.colab import files\n",
        "\n",
        "# Install Kaggle library\n",
        "!pip install -q kaggle"
      ],
      "execution_count": 0,
      "outputs": []
    },
    {
      "cell_type": "code",
      "metadata": {
        "id": "pvzx5_AP4Owe",
        "colab_type": "code",
        "outputId": "c23d3c6e-33c3-497b-cec5-2a36893bd267",
        "colab": {
          "resources": {
            "http://localhost:8080/nbextensions/google.colab/files.js": {
              "data": "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",
              "ok": true,
              "headers": [
                [
                  "content-type",
                  "application/javascript"
                ]
              ],
              "status": 200,
              "status_text": ""
            }
          },
          "base_uri": "https://localhost:8080/",
          "height": 75
        }
      },
      "source": [
        "uploaded = files.upload()"
      ],
      "execution_count": 6,
      "outputs": [
        {
          "output_type": "display_data",
          "data": {
            "text/html": [
              "\n",
              "     <input type=\"file\" id=\"files-dab14c16-d426-4eee-a476-b18acf4a2708\" name=\"files[]\" multiple disabled />\n",
              "     <output id=\"result-dab14c16-d426-4eee-a476-b18acf4a2708\">\n",
              "      Upload widget is only available when the cell has been executed in the\n",
              "      current browser session. Please rerun this cell to enable.\n",
              "      </output>\n",
              "      <script src=\"/nbextensions/google.colab/files.js\"></script> "
            ],
            "text/plain": [
              "<IPython.core.display.HTML object>"
            ]
          },
          "metadata": {
            "tags": []
          }
        },
        {
          "output_type": "stream",
          "text": [
            "Saving kaggle.json to kaggle.json\n"
          ],
          "name": "stdout"
        }
      ]
    },
    {
      "cell_type": "code",
      "metadata": {
        "id": "Lzg8ZAif4PP_",
        "colab_type": "code",
        "outputId": "02b73508-af9e-42cb-d493-36e64a63a545",
        "colab": {
          "base_uri": "https://localhost:8080/",
          "height": 34
        }
      },
      "source": [
        "!pip install -q kaggle\n",
        "!mkdir -p ~/.kaggle\n",
        "!cp kaggle.json ~/.kaggle/\n",
        "!ls ~/.kaggle\n",
        "!chmod 600 /root/.kaggle/kaggle.json"
      ],
      "execution_count": 7,
      "outputs": [
        {
          "output_type": "stream",
          "text": [
            "kaggle.json\n"
          ],
          "name": "stdout"
        }
      ]
    },
    {
      "cell_type": "code",
      "metadata": {
        "id": "ZZgmloBP4PL8",
        "colab_type": "code",
        "outputId": "b0e28ab8-f99a-45cb-c077-812306b328df",
        "colab": {
          "base_uri": "https://localhost:8080/",
          "height": 68
        }
      },
      "source": [
        "!kaggle datasets download -d allen-institute-for-ai/CORD-19-research-challenge/document_parses"
      ],
      "execution_count": 8,
      "outputs": [
        {
          "output_type": "stream",
          "text": [
            "Downloading CORD-19-research-challenge.zip to /content\n",
            "100% 2.74G/2.75G [01:01<00:00, 50.0MB/s]\n",
            "100% 2.75G/2.75G [01:01<00:00, 47.7MB/s]\n"
          ],
          "name": "stdout"
        }
      ]
    },
    {
      "cell_type": "code",
      "metadata": {
        "id": "Is7Ff57L4PGW",
        "colab_type": "code",
        "colab": {}
      },
      "source": [
        "!unzip -q CORD-19-research-challenge.zip"
      ],
      "execution_count": 0,
      "outputs": []
    },
    {
      "cell_type": "code",
      "metadata": {
        "id": "-uW0y_ze4O44",
        "colab_type": "code",
        "colab": {}
      },
      "source": [
        "import os\n",
        "import json\n",
        "import nltk\n",
        "from collections import defaultdict\n",
        "from copy import deepcopy"
      ],
      "execution_count": 0,
      "outputs": []
    },
    {
      "cell_type": "code",
      "metadata": {
        "id": "6NrViMK88Q0e",
        "colab_type": "code",
        "colab": {}
      },
      "source": [
        "folder_names = ['comm_use_subset','comm_use_subset']\n",
        "folder_paths = [\"/content/document_parses/pdf_json/\"]"
      ],
      "execution_count": 0,
      "outputs": []
    },
    {
      "cell_type": "code",
      "metadata": {
        "id": "jvXnv54M8Qth",
        "colab_type": "code",
        "colab": {}
      },
      "source": [
        "# This piece of code was adopted from the original source at:\n",
        "# https://www.kaggle.com/xhlulu/cord-19-eda-parse-json-and-generate-clean-csv/notebook \n",
        "\n",
        "def format_name(author):\n",
        "    middle_name = \" \".join(author['middle'])\n",
        "    if author['middle']:\n",
        "        return \" \".join([author['first'], middle_name, author['last']])\n",
        "    else:\n",
        "        return \" \".join([author['first'], author['last']])\n",
        "\n",
        "def format_affiliation(affiliation):\n",
        "    text = []\n",
        "    location = affiliation.get('location')\n",
        "    if location:\n",
        "        text.extend(list(affiliation['location'].values()))\n",
        "    institution = affiliation.get('institution')\n",
        "    if institution:\n",
        "        text = [institution] + text\n",
        "    return \", \".join(text)\n",
        "\n",
        "def format_authors(authors, with_affiliation=False):\n",
        "    name_ls = []\n",
        "    for author in authors:\n",
        "        name = format_name(author)\n",
        "        if with_affiliation:\n",
        "            affiliation = format_affiliation(author['affiliation'])\n",
        "            if affiliation:\n",
        "                name_ls.append(f\"{name} ({affiliation})\")\n",
        "            else:\n",
        "                name_ls.append(name)\n",
        "        else:# First, for each query the system arranges all the scientific papers within the corpus in the relevant order.\n",
        "# Second, the system analize texts of top N the mosr relevant papers to answer to the query in the best way.\n",
        "            name_ls.append(name)\n",
        "    return \", \".join(name_ls)\n",
        "\n",
        "def format_body(body_text):\n",
        "    texts = [(di['section'], di['text']) for di in body_text]\n",
        "    texts_di = {di['section']: \"\" for di in body_text}\n",
        "    for section, text in texts:\n",
        "        texts_di[section] += text\n",
        "    body = \"\"\n",
        "    for section, text in texts_di.items():\n",
        "        body += section\n",
        "        body += \"\\n\\n\"\n",
        "        body += text\n",
        "        body += \"\\n\\n\"\n",
        "    return body\n",
        "\n",
        "def format_bib(bibs):\n",
        "    if type(bibs) == dict:\n",
        "        bibs = list(bibs.values())\n",
        "    bibs = deepcopy(bibs)\n",
        "    formatted = []\n",
        "    for bib in bibs:\n",
        "        bib['authors'] = format_authors(\n",
        "            bib['authors'], \n",
        "            with_affiliation=False\n",
        "        )\n",
        "        formatted_ls = [str(bib[k]) for k in ['title', 'authors', 'venue', 'year']]\n",
        "        formatted.append(\", \".join(formatted_ls))\n",
        "    return \"; \".join(formatted)\n",
        "\n",
        "def load_files(dirname, filename=None):\n",
        "    filenames = os.listdir(dirname)\n",
        "    raw_files = []\n",
        "    if filename:\n",
        "        filename = dirname + filename\n",
        "        raw_files = [json.load(open(filename, 'rb'))]\n",
        "    else:\n",
        "        #for filename in tqdm(filenames):\n",
        "        for filename in filenames[:20000]:\n",
        "            filename = dirname + filename\n",
        "            file = json.load(open(filename, 'rb'))\n",
        "            raw_files.append(file)\n",
        "    return raw_files\n",
        "\n",
        "def generate_clean_df(all_files):\n",
        "    cleaned_files = []\n",
        "    #for file in tqdm(all_files):\n",
        "    for file in all_files:\n",
        "        features = [\n",
        "            file['paper_id'],\n",
        "            file['metadata']['title'],\n",
        "            format_authors(file['metadata']['authors']),\n",
        "            format_authors(file['metadata']['authors'], \n",
        "                           with_affiliation=True),\n",
        "            format_body(file['abstract']),\n",
        "            format_body(file['body_text']),\n",
        "            format_bib(file['bib_entries']),\n",
        "            file['metadata']['authors'],\n",
        "            file['bib_entries']\n",
        "        ]\n",
        "        cleaned_files.append(features)\n",
        "    col_names = ['paper_id', 'title', 'authors',\n",
        "                 'affiliations', 'abstract', 'text', \n",
        "                 'bibliography','raw_authors','raw_bibliography']\n",
        "    clean_df = pd.DataFrame(cleaned_files, columns=col_names)\n",
        "    clean_df = clean_df.drop(columns=['authors','affiliations','bibliography',\n",
        "                                      'raw_authors','raw_bibliography'])\n",
        "    return clean_df"
      ],
      "execution_count": 0,
      "outputs": []
    },
    {
      "cell_type": "code",
      "metadata": {
        "id": "pPTYDrXHDzN9",
        "colab_type": "code",
        "colab": {
          "base_uri": "https://localhost:8080/",
          "height": 34
        },
        "outputId": "17f92652-5242-49d7-d4db-5baad434ea80"
      },
      "source": [
        "len(folder_paths)"
      ],
      "execution_count": 13,
      "outputs": [
        {
          "output_type": "execute_result",
          "data": {
            "text/plain": [
              "1"
            ]
          },
          "metadata": {
            "tags": []
          },
          "execution_count": 13
        }
      ]
    },
    {
      "cell_type": "code",
      "metadata": {
        "id": "elQCblar8QpG",
        "colab_type": "code",
        "outputId": "1c8a9cc3-c7ad-414d-8558-aeb7e2704192",
        "colab": {
          "base_uri": "https://localhost:8080/",
          "height": 51
        }
      },
      "source": [
        "# This piece of code was adopted from the original source at:\n",
        "#https://www.kaggle.com/zoupet/\n",
        "def get_corpus(folder_paths = folder_paths):\n",
        "    num_of_papers = {}\n",
        "    corpus = pd.DataFrame(columns=['paper_id','title','abstract','text'])\n",
        "    for i in range(len(folder_paths)):\n",
        "\n",
        "        filenames = os.listdir(folder_paths[i])\n",
        "        print('Reading {0} json files from folder {1} ...'.format(len(filenames), folder_names[i]))\n",
        "        num_of_papers[folder_names[i]] = len(filenames)\n",
        "        files = load_files(folder_paths[i])\n",
        "        df = generate_clean_df(files)\n",
        "        corpus = pd.concat([corpus, df], ignore_index=True, sort=False)\n",
        "    print('Corpus includes {0} scientific articles.'.format(len(corpus)))\n",
        "    return corpus, num_of_papers\n",
        "\n",
        "corpus, num_of_papers = get_corpus()"
      ],
      "execution_count": 14,
      "outputs": [
        {
          "output_type": "stream",
          "text": [
            "Reading 59561 json files from folder comm_use_subset ...\n",
            "Corpus includes 20000 scientific articles.\n"
          ],
          "name": "stdout"
        }
      ]
    },
    {
      "cell_type": "code",
      "metadata": {
        "id": "4a3trf0YLU_b",
        "colab_type": "code",
        "colab": {
          "base_uri": "https://localhost:8080/",
          "height": 289
        },
        "outputId": "23d55a0a-d9b8-4ad7-b49b-4e5c4b490fa7"
      },
      "source": [
        "corpus.head()"
      ],
      "execution_count": 18,
      "outputs": [
        {
          "output_type": "execute_result",
          "data": {
            "text/html": [
              "<div>\n",
              "<style scoped>\n",
              "    .dataframe tbody tr th:only-of-type {\n",
              "        vertical-align: middle;\n",
              "    }\n",
              "\n",
              "    .dataframe tbody tr th {\n",
              "        vertical-align: top;\n",
              "    }\n",
              "\n",
              "    .dataframe thead th {\n",
              "        text-align: right;\n",
              "    }\n",
              "</style>\n",
              "<table border=\"1\" class=\"dataframe\">\n",
              "  <thead>\n",
              "    <tr style=\"text-align: right;\">\n",
              "      <th></th>\n",
              "      <th>paper_id</th>\n",
              "      <th>title</th>\n",
              "      <th>abstract</th>\n",
              "      <th>text</th>\n",
              "    </tr>\n",
              "  </thead>\n",
              "  <tbody>\n",
              "    <tr>\n",
              "      <th>0</th>\n",
              "      <td>f633e4c9065ef9226de908514df6ea7d29abe7bf</td>\n",
              "      <td>/3-Endorphin protects mice from neurological d...</td>\n",
              "      <td>Abstract\\n\\nThe neurotropic murine coronavirus...</td>\n",
              "      <td>Introduction\\n\\nThe neurotropic strain of mous...</td>\n",
              "    </tr>\n",
              "    <tr>\n",
              "      <th>1</th>\n",
              "      <td>437829e3b844b1cca575750a22807243e974dd21</td>\n",
              "      <td>Breastfeeding: A guide for the medical profess...</td>\n",
              "      <td></td>\n",
              "      <td>\\n\\nA large body of evidence clearly demonstra...</td>\n",
              "    </tr>\n",
              "    <tr>\n",
              "      <th>2</th>\n",
              "      <td>ea96b70e38e9b645fada641e0046acecf235fe7b</td>\n",
              "      <td>Diagnostic performance of a rapid in-clinic te...</td>\n",
              "      <td>Abstract\\n\\nCanine parvovirus (CPV) is one of ...</td>\n",
              "      <td>\\n\\nco-circulates with other CPV types in Viet...</td>\n",
              "    </tr>\n",
              "    <tr>\n",
              "      <th>3</th>\n",
              "      <td>93425e3efc7561514451b9ea0d4cad0789c42017</td>\n",
              "      <td>Molecular virology of hepatitis E virus</td>\n",
              "      <td>Abstract\\n\\nThis review details the molecular ...</td>\n",
              "      <td>Introduction\\n\\nHepatitis E virus (HEV) is the...</td>\n",
              "    </tr>\n",
              "    <tr>\n",
              "      <th>4</th>\n",
              "      <td>d4147c3df65fb378821ec21f5171668cdd76ceae</td>\n",
              "      <td>Respiratory Picornaviruses and Respiratory Syn...</td>\n",
              "      <td>Abstract\\n\\nWe studied the viral etiology of a...</td>\n",
              "      <td>\\n\\nA cute expiratory wheezing illnesses (bron...</td>\n",
              "    </tr>\n",
              "  </tbody>\n",
              "</table>\n",
              "</div>"
            ],
            "text/plain": [
              "                                   paper_id  ...                                               text\n",
              "0  f633e4c9065ef9226de908514df6ea7d29abe7bf  ...  Introduction\\n\\nThe neurotropic strain of mous...\n",
              "1  437829e3b844b1cca575750a22807243e974dd21  ...  \\n\\nA large body of evidence clearly demonstra...\n",
              "2  ea96b70e38e9b645fada641e0046acecf235fe7b  ...  \\n\\nco-circulates with other CPV types in Viet...\n",
              "3  93425e3efc7561514451b9ea0d4cad0789c42017  ...  Introduction\\n\\nHepatitis E virus (HEV) is the...\n",
              "4  d4147c3df65fb378821ec21f5171668cdd76ceae  ...  \\n\\nA cute expiratory wheezing illnesses (bron...\n",
              "\n",
              "[5 rows x 4 columns]"
            ]
          },
          "metadata": {
            "tags": []
          },
          "execution_count": 18
        }
      ]
    },
    {
      "cell_type": "code",
      "metadata": {
        "id": "EHlZ7Xle8QPP",
        "colab_type": "code",
        "colab": {}
      },
      "source": [
        "corpus=df.copy()"
      ],
      "execution_count": 0,
      "outputs": []
    },
    {
      "cell_type": "code",
      "metadata": {
        "id": "Ruue3wRk6Ggh",
        "colab_type": "code",
        "colab": {}
      },
      "source": [
        "df=corpus.copy()"
      ],
      "execution_count": 0,
      "outputs": []
    },
    {
      "cell_type": "code",
      "metadata": {
        "id": "hrltvA-8twDq",
        "colab_type": "code",
        "colab": {}
      },
      "source": [
        "df=df.dropna(inplace=False)"
      ],
      "execution_count": 0,
      "outputs": []
    },
    {
      "cell_type": "code",
      "metadata": {
        "id": "4DZTsizdt7OP",
        "colab_type": "code",
        "colab": {}
      },
      "source": [
        "df.reset_index(drop = True, inplace = True)"
      ],
      "execution_count": 0,
      "outputs": []
    },
    {
      "cell_type": "code",
      "metadata": {
        "id": "bF7oBhh2t8Oo",
        "colab_type": "code",
        "colab": {}
      },
      "source": [
        "from googletrans import Translator\n",
        "translator = Translator()\n",
        "df_en = df.copy()\n",
        "\n",
        "\n",
        "# translate columns' name using rename function\n",
        "df_en.rename(columns=lambda x: translator.translate(x).text, inplace=True)"
      ],
      "execution_count": 0,
      "outputs": []
    },
    {
      "cell_type": "code",
      "metadata": {
        "id": "3mRijXgGuFv6",
        "colab_type": "code",
        "outputId": "464fa33a-aa54-4821-cbe9-de3fe4478e7a",
        "colab": {
          "base_uri": "https://localhost:8080/",
          "height": 289
        }
      },
      "source": [
        "translations = {}\n",
        "for column in df_en.columns:\n",
        "    # unique elements of the column\n",
        "    unique_elements = df_en[column].unique()\n",
        "    for element in unique_elements:\n",
        "        # add translation to the dictionary\n",
        "        if type(element)=='str':\n",
        "            translations[element] = translator.translate(element).text\n",
        "# modify all the terms of the data frame by using the previously created dictionary\n",
        "df_en.replace(translations, inplace = True)\n",
        "\n",
        "# check translation\n",
        "df_en.head()"
      ],
      "execution_count": 23,
      "outputs": [
        {
          "output_type": "execute_result",
          "data": {
            "text/html": [
              "<div>\n",
              "<style scoped>\n",
              "    .dataframe tbody tr th:only-of-type {\n",
              "        vertical-align: middle;\n",
              "    }\n",
              "\n",
              "    .dataframe tbody tr th {\n",
              "        vertical-align: top;\n",
              "    }\n",
              "\n",
              "    .dataframe thead th {\n",
              "        text-align: right;\n",
              "    }\n",
              "</style>\n",
              "<table border=\"1\" class=\"dataframe\">\n",
              "  <thead>\n",
              "    <tr style=\"text-align: right;\">\n",
              "      <th></th>\n",
              "      <th>paper_id</th>\n",
              "      <th>title</th>\n",
              "      <th>abstract</th>\n",
              "      <th>text</th>\n",
              "    </tr>\n",
              "  </thead>\n",
              "  <tbody>\n",
              "    <tr>\n",
              "      <th>0</th>\n",
              "      <td>f633e4c9065ef9226de908514df6ea7d29abe7bf</td>\n",
              "      <td>/3-Endorphin protects mice from neurological d...</td>\n",
              "      <td>Abstract\\n\\nThe neurotropic murine coronavirus...</td>\n",
              "      <td>Introduction\\n\\nThe neurotropic strain of mous...</td>\n",
              "    </tr>\n",
              "    <tr>\n",
              "      <th>1</th>\n",
              "      <td>437829e3b844b1cca575750a22807243e974dd21</td>\n",
              "      <td>Breastfeeding: A guide for the medical profess...</td>\n",
              "      <td></td>\n",
              "      <td>\\n\\nA large body of evidence clearly demonstra...</td>\n",
              "    </tr>\n",
              "    <tr>\n",
              "      <th>2</th>\n",
              "      <td>ea96b70e38e9b645fada641e0046acecf235fe7b</td>\n",
              "      <td>Diagnostic performance of a rapid in-clinic te...</td>\n",
              "      <td>Abstract\\n\\nCanine parvovirus (CPV) is one of ...</td>\n",
              "      <td>\\n\\nco-circulates with other CPV types in Viet...</td>\n",
              "    </tr>\n",
              "    <tr>\n",
              "      <th>3</th>\n",
              "      <td>93425e3efc7561514451b9ea0d4cad0789c42017</td>\n",
              "      <td>Molecular virology of hepatitis E virus</td>\n",
              "      <td>Abstract\\n\\nThis review details the molecular ...</td>\n",
              "      <td>Introduction\\n\\nHepatitis E virus (HEV) is the...</td>\n",
              "    </tr>\n",
              "    <tr>\n",
              "      <th>4</th>\n",
              "      <td>d4147c3df65fb378821ec21f5171668cdd76ceae</td>\n",
              "      <td>Respiratory Picornaviruses and Respiratory Syn...</td>\n",
              "      <td>Abstract\\n\\nWe studied the viral etiology of a...</td>\n",
              "      <td>\\n\\nA cute expiratory wheezing illnesses (bron...</td>\n",
              "    </tr>\n",
              "  </tbody>\n",
              "</table>\n",
              "</div>"
            ],
            "text/plain": [
              "                                   paper_id  ...                                               text\n",
              "0  f633e4c9065ef9226de908514df6ea7d29abe7bf  ...  Introduction\\n\\nThe neurotropic strain of mous...\n",
              "1  437829e3b844b1cca575750a22807243e974dd21  ...  \\n\\nA large body of evidence clearly demonstra...\n",
              "2  ea96b70e38e9b645fada641e0046acecf235fe7b  ...  \\n\\nco-circulates with other CPV types in Viet...\n",
              "3  93425e3efc7561514451b9ea0d4cad0789c42017  ...  Introduction\\n\\nHepatitis E virus (HEV) is the...\n",
              "4  d4147c3df65fb378821ec21f5171668cdd76ceae  ...  \\n\\nA cute expiratory wheezing illnesses (bron...\n",
              "\n",
              "[5 rows x 4 columns]"
            ]
          },
          "metadata": {
            "tags": []
          },
          "execution_count": 23
        }
      ]
    },
    {
      "cell_type": "code",
      "metadata": {
        "id": "OlHkTuNnuYvm",
        "colab_type": "code",
        "colab": {}
      },
      "source": [
        "df_en.reset_index(drop = True, inplace = True)"
      ],
      "execution_count": 0,
      "outputs": []
    },
    {
      "cell_type": "code",
      "metadata": {
        "id": "8zUVn0Bly6bA",
        "colab_type": "code",
        "colab": {}
      },
      "source": [
        "df_l=df_en.copy()"
      ],
      "execution_count": 0,
      "outputs": []
    },
    {
      "cell_type": "code",
      "metadata": {
        "id": "JK_pvKInxvLw",
        "colab_type": "code",
        "colab": {}
      },
      "source": [
        "\n",
        "df_en['abstract_cleaned'] =df_en['abstract'].str.replace('\\d+', '')\n",
        "df_en.reset_index(drop = True, inplace = True)"
      ],
      "execution_count": 0,
      "outputs": []
    },
    {
      "cell_type": "code",
      "metadata": {
        "id": "RzuOfGZE7gK-",
        "colab_type": "code",
        "colab": {}
      },
      "source": [
        "from cdqa.pipeline.cdqa_sklearn import QAPipeline"
      ],
      "execution_count": 0,
      "outputs": []
    },
    {
      "cell_type": "code",
      "metadata": {
        "id": "GLD8d4C41Z5G",
        "colab_type": "code",
        "outputId": "3ae5ed01-5a7b-455c-b0fc-f9defc9b59a3",
        "colab": {
          "base_uri": "https://localhost:8080/",
          "height": 105
        }
      },
      "source": [
        "# The End-To-End Closed Domain Question Answering System is used here.\n",
        "# It is available at: https://pypi.org/project/cdqa/\n",
        "\n",
        "from cdqa.utils.filters import filter_paragraphs\n",
        "from cdqa.utils.download import download_model, download_bnpp_data\n",
        "from cdqa.pipeline.cdqa_sklearn import QAPipeline\n",
        "\n",
        "download_bnpp_data(dir='./data/bnpp_newsroom_v1.1/')\n"
      ],
      "execution_count": 30,
      "outputs": [
        {
          "output_type": "stream",
          "text": [
            "/usr/local/lib/python3.6/dist-packages/tqdm/autonotebook/__init__.py:18: TqdmExperimentalWarning: Using `tqdm.autonotebook.tqdm` in notebook mode. Use `tqdm.tqdm` instead to force console mode (e.g. in jupyter console)\n",
            "  \" (e.g. in jupyter console)\", TqdmExperimentalWarning)\n"
          ],
          "name": "stderr"
        },
        {
          "output_type": "stream",
          "text": [
            "\n",
            "Downloading BNP data...\n"
          ],
          "name": "stdout"
        }
      ]
    },
    {
      "cell_type": "code",
      "metadata": {
        "id": "s4AKWgMh7sXJ",
        "colab_type": "code",
        "outputId": "206ffe6f-c071-4cff-f525-cc0acd04aeac",
        "colab": {
          "base_uri": "https://localhost:8080/",
          "height": 51
        }
      },
      "source": [
        "download_model(model='bert-squad_1.1', dir='./models')"
      ],
      "execution_count": 63,
      "outputs": [
        {
          "output_type": "stream",
          "text": [
            "\n",
            "Downloading trained model...\n"
          ],
          "name": "stdout"
        }
      ]
    },
    {
      "cell_type": "code",
      "metadata": {
        "id": "Sx-NiYRI716Y",
        "colab_type": "code",
        "outputId": "3de850e0-ec5f-4cb6-a20a-b45f5952eae8",
        "colab": {
          "base_uri": "https://localhost:8080/",
          "height": 204
        }
      },
      "source": [
        "\n",
        "colms = ['date', 'title', 'category', 'link', 'abstract', 'paragraphs']\n",
        "df_cleaned = pd.DataFrame(columns=colms)\n",
        "for i in range(len(df_en)):\n",
        "    df_en['text'][i] = df_en['text'][i].replace('\\n\\n', ' ')\n",
        "    CurrentText = df_en['text'][i]\n",
        "    CurrentText = CurrentText.split('. ')\n",
        "    CurrentList = [\"None\", df_en['title'][i], \"None\", \"None\", df_en['abstract'][i], CurrentText]\n",
        "    CurrentList = np.array(CurrentList)\n",
        "    CurrentList = CurrentList.reshape(1, CurrentList.shape[0])\n",
        "    CurrentList = pd.DataFrame(data = CurrentList, columns=colms)\n",
        "    df_cleaned = pd.concat([df_cleaned, CurrentList], ignore_index=True)\n",
        "df_cleaned.head()"
      ],
      "execution_count": 33,
      "outputs": [
        {
          "output_type": "execute_result",
          "data": {
            "text/html": [
              "<div>\n",
              "<style scoped>\n",
              "    .dataframe tbody tr th:only-of-type {\n",
              "        vertical-align: middle;\n",
              "    }\n",
              "\n",
              "    .dataframe tbody tr th {\n",
              "        vertical-align: top;\n",
              "    }\n",
              "\n",
              "    .dataframe thead th {\n",
              "        text-align: right;\n",
              "    }\n",
              "</style>\n",
              "<table border=\"1\" class=\"dataframe\">\n",
              "  <thead>\n",
              "    <tr style=\"text-align: right;\">\n",
              "      <th></th>\n",
              "      <th>date</th>\n",
              "      <th>title</th>\n",
              "      <th>category</th>\n",
              "      <th>link</th>\n",
              "      <th>abstract</th>\n",
              "      <th>paragraphs</th>\n",
              "    </tr>\n",
              "  </thead>\n",
              "  <tbody>\n",
              "    <tr>\n",
              "      <th>0</th>\n",
              "      <td>None</td>\n",
              "      <td>/3-Endorphin protects mice from neurological d...</td>\n",
              "      <td>None</td>\n",
              "      <td>None</td>\n",
              "      <td>Abstract\\n\\nThe neurotropic murine coronavirus...</td>\n",
              "      <td>[Introduction The neurotropic strain of mouse ...</td>\n",
              "    </tr>\n",
              "    <tr>\n",
              "      <th>1</th>\n",
              "      <td>None</td>\n",
              "      <td>Breastfeeding: A guide for the medical profess...</td>\n",
              "      <td>None</td>\n",
              "      <td>None</td>\n",
              "      <td></td>\n",
              "      <td>[ A large body of evidence clearly demonstrate...</td>\n",
              "    </tr>\n",
              "    <tr>\n",
              "      <th>2</th>\n",
              "      <td>None</td>\n",
              "      <td>Diagnostic performance of a rapid in-clinic te...</td>\n",
              "      <td>None</td>\n",
              "      <td>None</td>\n",
              "      <td>Abstract\\n\\nCanine parvovirus (CPV) is one of ...</td>\n",
              "      <td>[ co-circulates with other CPV types in Vietna...</td>\n",
              "    </tr>\n",
              "    <tr>\n",
              "      <th>3</th>\n",
              "      <td>None</td>\n",
              "      <td>Molecular virology of hepatitis E virus</td>\n",
              "      <td>None</td>\n",
              "      <td>None</td>\n",
              "      <td>Abstract\\n\\nThis review details the molecular ...</td>\n",
              "      <td>[Introduction Hepatitis E virus (HEV) is the c...</td>\n",
              "    </tr>\n",
              "    <tr>\n",
              "      <th>4</th>\n",
              "      <td>None</td>\n",
              "      <td>Respiratory Picornaviruses and Respiratory Syn...</td>\n",
              "      <td>None</td>\n",
              "      <td>None</td>\n",
              "      <td>Abstract\\n\\nWe studied the viral etiology of a...</td>\n",
              "      <td>[ A cute expiratory wheezing illnesses (bronch...</td>\n",
              "    </tr>\n",
              "  </tbody>\n",
              "</table>\n",
              "</div>"
            ],
            "text/plain": [
              "   date  ...                                         paragraphs\n",
              "0  None  ...  [Introduction The neurotropic strain of mouse ...\n",
              "1  None  ...  [ A large body of evidence clearly demonstrate...\n",
              "2  None  ...  [ co-circulates with other CPV types in Vietna...\n",
              "3  None  ...  [Introduction Hepatitis E virus (HEV) is the c...\n",
              "4  None  ...  [ A cute expiratory wheezing illnesses (bronch...\n",
              "\n",
              "[5 rows x 6 columns]"
            ]
          },
          "metadata": {
            "tags": []
          },
          "execution_count": 33
        }
      ]
    },
    {
      "cell_type": "code",
      "metadata": {
        "id": "-BptoYmJ75_N",
        "colab_type": "code",
        "colab": {}
      },
      "source": [
        "df_cleaned=df_cleaned.drop(['category','link','date'],axis=1)"
      ],
      "execution_count": 0,
      "outputs": []
    },
    {
      "cell_type": "code",
      "metadata": {
        "id": "WY3nKG7v8E6Q",
        "colab_type": "code",
        "colab": {}
      },
      "source": [
        "df_cleaned=filter_paragraphs(df_cleaned)"
      ],
      "execution_count": 0,
      "outputs": []
    },
    {
      "cell_type": "code",
      "metadata": {
        "id": "xyeTJL-l8JJF",
        "colab_type": "code",
        "outputId": "67a0eb89-66da-4a60-eaea-ec2f0c3b6f98",
        "colab": {
          "base_uri": "https://localhost:8080/",
          "height": 204
        }
      },
      "source": [
        "df_cleaned.head()"
      ],
      "execution_count": 36,
      "outputs": [
        {
          "output_type": "execute_result",
          "data": {
            "text/html": [
              "<div>\n",
              "<style scoped>\n",
              "    .dataframe tbody tr th:only-of-type {\n",
              "        vertical-align: middle;\n",
              "    }\n",
              "\n",
              "    .dataframe tbody tr th {\n",
              "        vertical-align: top;\n",
              "    }\n",
              "\n",
              "    .dataframe thead th {\n",
              "        text-align: right;\n",
              "    }\n",
              "</style>\n",
              "<table border=\"1\" class=\"dataframe\">\n",
              "  <thead>\n",
              "    <tr style=\"text-align: right;\">\n",
              "      <th></th>\n",
              "      <th>title</th>\n",
              "      <th>abstract</th>\n",
              "      <th>paragraphs</th>\n",
              "    </tr>\n",
              "  </thead>\n",
              "  <tbody>\n",
              "    <tr>\n",
              "      <th>0</th>\n",
              "      <td>/3-Endorphin protects mice from neurological d...</td>\n",
              "      <td>Abstract\\n\\nThe neurotropic murine coronavirus...</td>\n",
              "      <td>[Introduction The neurotropic strain of mouse ...</td>\n",
              "    </tr>\n",
              "    <tr>\n",
              "      <th>1</th>\n",
              "      <td>Breastfeeding: A guide for the medical profess...</td>\n",
              "      <td></td>\n",
              "      <td>[Decisions concerning breastfeeding in the mot...</td>\n",
              "    </tr>\n",
              "    <tr>\n",
              "      <th>2</th>\n",
              "      <td>Diagnostic performance of a rapid in-clinic te...</td>\n",
              "      <td>Abstract\\n\\nCanine parvovirus (CPV) is one of ...</td>\n",
              "      <td>[co-circulates with other CPV types in Vietnam...</td>\n",
              "    </tr>\n",
              "    <tr>\n",
              "      <th>3</th>\n",
              "      <td>Molecular virology of hepatitis E virus</td>\n",
              "      <td>Abstract\\n\\nThis review details the molecular ...</td>\n",
              "      <td>[Genotype 3 is evenly distributed across the w...</td>\n",
              "    </tr>\n",
              "    <tr>\n",
              "      <th>4</th>\n",
              "      <td>Respiratory Picornaviruses and Respiratory Syn...</td>\n",
              "      <td>Abstract\\n\\nWe studied the viral etiology of a...</td>\n",
              "      <td>[Investigating the viral origin of acute expir...</td>\n",
              "    </tr>\n",
              "  </tbody>\n",
              "</table>\n",
              "</div>"
            ],
            "text/plain": [
              "                                               title  ...                                         paragraphs\n",
              "0  /3-Endorphin protects mice from neurological d...  ...  [Introduction The neurotropic strain of mouse ...\n",
              "1  Breastfeeding: A guide for the medical profess...  ...  [Decisions concerning breastfeeding in the mot...\n",
              "2  Diagnostic performance of a rapid in-clinic te...  ...  [co-circulates with other CPV types in Vietnam...\n",
              "3            Molecular virology of hepatitis E virus  ...  [Genotype 3 is evenly distributed across the w...\n",
              "4  Respiratory Picornaviruses and Respiratory Syn...  ...  [Investigating the viral origin of acute expir...\n",
              "\n",
              "[5 rows x 3 columns]"
            ]
          },
          "metadata": {
            "tags": []
          },
          "execution_count": 36
        }
      ]
    },
    {
      "cell_type": "code",
      "metadata": {
        "id": "UEJkXXXe9yb1",
        "colab_type": "code",
        "colab": {}
      },
      "source": [
        "clean_0_df=df_cleaned.copy()"
      ],
      "execution_count": 0,
      "outputs": []
    },
    {
      "cell_type": "code",
      "metadata": {
        "id": "Tv3HWzi7aYtH",
        "colab_type": "code",
        "colab": {}
      },
      "source": [
        "\n"
      ],
      "execution_count": 0,
      "outputs": []
    },
    {
      "cell_type": "code",
      "metadata": {
        "id": "oVxyKWaySCCl",
        "colab_type": "code",
        "colab": {}
      },
      "source": [
        "df_cleaned.to_csv('cdqa_cleaned_new.csv')\n",
        "!cp cdqa_cleaned_new.csv \"/content/drive/My Drive/Karuna\""
      ],
      "execution_count": 0,
      "outputs": []
    },
    {
      "cell_type": "code",
      "metadata": {
        "id": "QFNKmew7_R7d",
        "colab_type": "code",
        "colab": {}
      },
      "source": [
        "queries = ['What is optimal quarantine period for coronavirus COVID-19',\n",
        "         'What is range of incubation period for coronavirus SARS-CoV-2 COVID-19 in humans',\n",
        "           \n",
        "      'What is effective quarantine period for coronavirus COVID-19',\n",
        "          'What is percentage of death cases for coronavirus SARS-CoV-2 COVID-19',\n",
        "         'What is death rate for coronavirus COVID-19 and air pollution',\n",
        "          'At which temperature coronavirus COVID-19 can survive',\n",
        "           'How long coronavirus SARS-CoV-2 can survive on plastic surface',\n",
        "           'What are risk factors for coronavirus COVID-19'\n",
        "           ,\n",
        "          'What is origin of coronavirus COVID-19'\n",
        "           ,\n",
        "        'At which temperature coronavirus cannot survive'\n",
        "] \n",
        "#query_embeddings = model_db.encode(queries)"
      ],
      "execution_count": 0,
      "outputs": []
    },
    {
      "cell_type": "code",
      "metadata": {
        "id": "b3vbz3te_7XO",
        "colab_type": "code",
        "colab": {}
      },
      "source": [
        "def customRange(start,end,step):\n",
        "    l=[]\n",
        "    m=[]\n",
        "    i = start\n",
        "    while i < end-step-15:\n",
        "        l.append(i)\n",
        "        i += step\n",
        "        m.append(i)\n",
        "    l.append(i)\n",
        "    m.append(end)\n",
        "    return zip(l,m)"
      ],
      "execution_count": 0,
      "outputs": []
    },
    {
      "cell_type": "code",
      "metadata": {
        "id": "pRWNHgrxavkG",
        "colab_type": "code",
        "colab": {}
      },
      "source": [
        "def train_retriever_better(pipeline,readerSize,retrieverSize,df_l,batchsize,taskQuery,numTask):\n",
        "    \"\"\"\n",
        "    try to use batches to fit retriever\n",
        "    \"\"\"\n",
        "    predictions=[]\n",
        "    pipeline.reader.n_best_size = readerSize \n",
        "    pipeline.retriever.top_n = retrieverSize\n",
        "    for (n,m) in customRange(0,df_l.shape[0],batchsize):\n",
        "        print(n)\n",
        "        pipeline.fit_retriever(df_l[n:m])\n",
        "        pred=[]\n",
        "        for query in taskQuery:\n",
        "            prediction=pipeline.predict(query=query, return_all_preds= True)\n",
        "            pred.append(prediction)\n",
        "        predictions.append(pred)\n",
        "    for i in range(len(queries)):\n",
        "        l=[]\n",
        "        for pred in predictions:\n",
        "            l=l+pred[i]\n",
        "        df=pd.DataFrame(l)\n",
        "        df.to_csv('task'+str(numTask)+'_q_'+str(i)+'.csv', index=False, mode='a', header=False)\n"
      ],
      "execution_count": 0,
      "outputs": []
    },
    {
      "cell_type": "code",
      "metadata": {
        "id": "eIsmyLIVSmI0",
        "colab_type": "code",
        "colab": {}
      },
      "source": [
        "!wget https://github.com/cdqa-suite/cdQA/releases/download/bert_qa_vGPU/bert_qa_vGPU-sklearn.joblib"
      ],
      "execution_count": 0,
      "outputs": []
    },
    {
      "cell_type": "code",
      "metadata": {
        "id": "eacxbc1qTC-h",
        "colab_type": "code",
        "colab": {}
      },
      "source": [
        "!pip3 install pytorch-pretrained-bert"
      ],
      "execution_count": 0,
      "outputs": []
    },
    {
      "cell_type": "code",
      "metadata": {
        "id": "jpBCraWN8-4e",
        "colab_type": "code",
        "colab": {}
      },
      "source": [
        "cdqa_pipeline = QAPipeline(reader='bert_qa_vGPU-sklearn.joblib')"
      ],
      "execution_count": 0,
      "outputs": []
    },
    {
      "cell_type": "code",
      "metadata": {
        "id": "5uO929AmOCCJ",
        "colab_type": "code",
        "outputId": "90eb00a9-610f-498e-cb3f-74e904ec8c61",
        "colab": {
          "base_uri": "https://localhost:8080/",
          "height": 850
        }
      },
      "source": [
        "for (n,m) in customRange(0,len(clean_0_df),8000):\n",
        "    train_retriever_better(cdqa_pipeline,10,10,clean_0_df[['title','paragraphs']][n:m], 400,queries,1)"
      ],
      "execution_count": 217,
      "outputs": [
        {
          "output_type": "stream",
          "text": [
            "0\n",
            "400\n",
            "800\n",
            "1200\n",
            "1600\n",
            "2000\n",
            "2400\n",
            "2800\n",
            "3200\n",
            "3600\n",
            "4000\n",
            "4400\n",
            "4800\n",
            "5200\n",
            "5600\n",
            "6000\n",
            "6400\n",
            "6800\n",
            "7200\n",
            "7600\n",
            "0\n",
            "400\n",
            "800\n",
            "1200\n",
            "1600\n",
            "2000\n",
            "2400\n",
            "2800\n",
            "3200\n",
            "3600\n",
            "4000\n",
            "4400\n",
            "4800\n",
            "5200\n",
            "5600\n",
            "6000\n",
            "6400\n",
            "6800\n",
            "7200\n",
            "7600\n",
            "0\n",
            "400\n",
            "800\n",
            "1200\n",
            "1600\n",
            "2000\n",
            "2400\n",
            "2800\n",
            "3200\n"
          ],
          "name": "stdout"
        }
      ]
    },
    {
      "cell_type": "code",
      "metadata": {
        "id": "X1URKOCOh1o_",
        "colab_type": "code",
        "colab": {}
      },
      "source": [
        "df_temp=pd.read_csv('task1_q_1.csv', header=None,names=[\"answer\", \"probability\",\"start\",\"end\",\"qas_id\",\"title\",\"paragraph\",\"retriver_score\",\"final_score\"])"
      ],
      "execution_count": 0,
      "outputs": []
    },
    {
      "cell_type": "code",
      "metadata": {
        "id": "8nKbxc4Rh43O",
        "colab_type": "code",
        "outputId": "07d3f7c6-47f1-4917-e9c7-0e16d0277448",
        "colab": {
          "base_uri": "https://localhost:8080/",
          "height": 524
        }
      },
      "source": [
        "import matplotlib.pyplot as plt; plt.rcdefaults()\n",
        "import numpy as np\n",
        "import matplotlib.pyplot as plt\n",
        "s_pred_df_1=df_temp.sort_values('final_score',ascending=False)[0:5]\n",
        "objects = s_pred_df_1['answer']\n",
        "y_pos = np.arange(len(objects))\n",
        "performance = s_pred_df_1['final_score']\n",
        "\n",
        "plt.bar(y_pos, performance, align='center', alpha=0.5)\n",
        "plt.xticks(y_pos, objects,rotation='vertical')\n",
        "#plt.xticks()\n",
        "plt.ylabel('answer')\n",
        "plt.title('Scoring of answers')\n",
        "\n",
        "plt.show() "
      ],
      "execution_count": 219,
      "outputs": [
        {
          "output_type": "display_data",
          "data": {
            "image/png": "[encoded data removed]",
            "text/plain": [
              "<Figure size 640x480 with 1 Axes>"
            ]
          },
          "metadata": {
            "tags": []
          }
        }
      ]
    },
    {
      "cell_type": "code",
      "metadata": {
        "id": "s5bCer_uerWK",
        "colab_type": "code",
        "colab": {}
      },
      "source": [
        "df_temp2=pd.read_csv('task1_q_0.csv', header=None,names=[\"answer\", \"probability\",\"start\",\"end\",\"qas_id\",\"title\",\"paragraph\",\"retriver_score\",\"final_score\"])"
      ],
      "execution_count": 0,
      "outputs": []
    },
    {
      "cell_type": "code",
      "metadata": {
        "id": "oECf4BJtev-o",
        "colab_type": "code",
        "colab": {
          "base_uri": "https://localhost:8080/",
          "height": 795
        },
        "outputId": "6d529d4b-e6de-49f1-e69a-e1174053c1c1"
      },
      "source": [
        "import matplotlib.pyplot as plt; plt.rcdefaults()\n",
        "import numpy as np\n",
        "import matplotlib.pyplot as plt\n",
        "s_pred_df_1=df_temp2.sort_values('final_score',ascending=False)[0:15]\n",
        "objects = s_pred_df_1['answer']\n",
        "y_pos = np.arange(len(objects))\n",
        "performance = s_pred_df_1['final_score']\n",
        "\n",
        "plt.bar(y_pos, performance, align='center', alpha=0.5)\n",
        "plt.xticks(y_pos, objects,rotation='vertical')\n",
        "#plt.xticks()\n",
        "plt.ylabel('answer')\n",
        "plt.title('Scoring of answers')\n",
        "\n",
        "plt.show() "
      ],
      "execution_count": 221,
      "outputs": [
        {
          "output_type": "display_data",
          "data": {
            "image/png": "[encoded data removed]",
            "text/plain": [
              "<Figure size 640x480 with 1 Axes>"
            ]
          },
          "metadata": {
            "tags": []
          }
        }
      ]
    },
    {
      "cell_type": "code",
      "metadata": {
        "id": "kMEh6Wzyh7yn",
        "colab_type": "code",
        "colab": {}
      },
      "source": [
        "from IPython.core.display import display, HTML "
      ],
      "execution_count": 0,
      "outputs": []
    },
    {
      "cell_type": "code",
      "metadata": {
        "id": "vgtaEnCHyFg2",
        "colab_type": "code",
        "colab": {}
      },
      "source": [
        "def print_queries(query,taskNumber,path=None,k=3):\n",
        "    for j in range(len(query)):\n",
        "        if(path):\n",
        "            df=pd.read_csv(path+'task'+str(taskNumber)+'/'+'task'+str(taskNumber)+'_q_'+str(j)+'.csv',header=None)\n",
        "        else:\n",
        "            df=pd.read_csv('task'+str(taskNumber)+'_q_'+str(j)+'.csv',header=None)\n",
        "            df = df.sort_values(df.columns[8],ascending=False)\n",
        "            df.reset_index(drop = True, inplace = True)\n",
        "        display(HTML(f'<h2 class=\"question\" > QUERY: {j+1}: \\n {query[j]} \\n</h2>'))\n",
        "        for i in range(0,k):\n",
        "            display(HTML(f'<h3 class=\"answer\">ANSWER: {i+1}: \\n {df[0][i]} </h3>'))\n",
        "            display(HTML(f'<h4 >TITLE: {i+1}: \\n {df[5][i]} </h4> '))\n",
        "            display(HTML(f'<h4 >DESCRIBED IN PAPER: \\n</h4>  {df[6][i]} '))"
      ],
      "execution_count": 0,
      "outputs": []
    },
    {
      "cell_type": "code",
      "metadata": {
        "id": "md6jP2xrf_XN",
        "colab_type": "code",
        "colab": {}
      },
      "source": [
        ""
      ],
      "execution_count": 0,
      "outputs": []
    },
    {
      "cell_type": "code",
      "metadata": {
        "id": "W6R25zcXytf7",
        "colab_type": "code",
        "outputId": "c035f5be-373d-46c8-b5c8-07f81ecd579f",
        "colab": {
          "base_uri": "https://localhost:8080/",
          "height": 17
        }
      },
      "source": [
        "%%HTML\n",
        "<style type=\"text/css\">\n",
        "h2.question {\n",
        "     background-color: steelblue; \n",
        "     color: white; \n",
        "     padding: 8px; \n",
        "     padding-right: 30px; \n",
        "     font-size: 24px; \n",
        "     max-width: 1500px; \n",
        "     margin-top: 10px;\n",
        "     margin-bottom:4px;\n",
        " }\n",
        "h3.answer {\n",
        "     background-color: skyblue; \n",
        "     color: black; \n",
        "     padding: 8px; \n",
        "     padding-right: 30px; \n",
        "     font-size: 20px; \n",
        "     max-width: 1500px; \n",
        "     margin-top: 4px;\n",
        "     margin-bottom:4px;\n",
        " }\n",
        "</style>"
      ],
      "execution_count": 103,
      "outputs": [
        {
          "output_type": "display_data",
          "data": {
            "text/html": [
              "<style type=\"text/css\">\n",
              "h2.question {\n",
              "     background-color: steelblue; \n",
              "     color: white; \n",
              "     padding: 8px; \n",
              "     padding-right: 30px; \n",
              "     font-size: 24px; \n",
              "     max-width: 1500px; \n",
              "     margin-top: 10px;\n",
              "     margin-bottom:4px;\n",
              " }\n",
              "h3.answer {\n",
              "     background-color: skyblue; \n",
              "     color: black; \n",
              "     padding: 8px; \n",
              "     padding-right: 30px; \n",
              "     font-size: 20px; \n",
              "     max-width: 1500px; \n",
              "     margin-top: 4px;\n",
              "     margin-bottom:4px;\n",
              " }\n",
              "</style>"
            ],
            "text/plain": [
              "<IPython.core.display.HTML object>"
            ]
          },
          "metadata": {
            "tags": []
          }
        }
      ]
    },
    {
      "cell_type": "code",
      "metadata": {
        "id": "BcFnKEP9zFwu",
        "colab_type": "code",
        "outputId": "23a351ad-b395-4115-d2d1-be8e04b41410",
        "colab": {
          "base_uri": "https://localhost:8080/",
          "height": 1000
        }
      },
      "source": [
        "print_queries(queries,1)"
      ],
      "execution_count": 226,
      "outputs": [
        {
          "output_type": "display_data",
          "data": {
            "text/html": [
              "<h2 class=\"question\" > QUERY: 1: \n",
              " What is optimal quarantine period for coronavirus COVID-19 \n",
              "</h2>"
            ],
            "text/plain": [
              "<IPython.core.display.HTML object>"
            ]
          },
          "metadata": {
            "tags": []
          }
        },
        {
          "output_type": "display_data",
          "data": {
            "text/html": [
              "<h3 class=\"answer\">ANSWER: 1: \n",
              " not too long but sufficient to contain the epidemics </h3>"
            ],
            "text/plain": [
              "<IPython.core.display.HTML object>"
            ]
          },
          "metadata": {
            "tags": []
          }
        },
        {
          "output_type": "display_data",
          "data": {
            "text/html": [
              "<h4 >TITLE: 1: \n",
              " Optimal Time Delay in the Control of Epidemic </h4> "
            ],
            "text/plain": [
              "<IPython.core.display.HTML object>"
            ]
          },
          "metadata": {
            "tags": []
          }
        },
        {
          "output_type": "display_data",
          "data": {
            "text/html": [
              "<h4 >DESCRIBED IN PAPER: \n",
              "</h4>  Here we seek a general model to describe the mathematical consequence of slow identification of the infected (large time delay for isolation) and the short quarantine period, thereby deriving a general guideline for the calculation of the optimal time delay (not the shortest) and the proper quarantine period (not too long but sufficient to contain the epidemics) "
            ],
            "text/plain": [
              "<IPython.core.display.HTML object>"
            ]
          },
          "metadata": {
            "tags": []
          }
        },
        {
          "output_type": "display_data",
          "data": {
            "text/html": [
              "<h3 class=\"answer\">ANSWER: 2: \n",
              " not too long but sufficient to contain the epidemics </h3>"
            ],
            "text/plain": [
              "<IPython.core.display.HTML object>"
            ]
          },
          "metadata": {
            "tags": []
          }
        },
        {
          "output_type": "display_data",
          "data": {
            "text/html": [
              "<h4 >TITLE: 2: \n",
              " Optimal Time Delay in the Control of Epidemic </h4> "
            ],
            "text/plain": [
              "<IPython.core.display.HTML object>"
            ]
          },
          "metadata": {
            "tags": []
          }
        },
        {
          "output_type": "display_data",
          "data": {
            "text/html": [
              "<h4 >DESCRIBED IN PAPER: \n",
              "</h4>  Here we seek a general model to describe the mathematical consequence of slow identification of the infected (large time delay for isolation) and the short quarantine period, thereby deriving a general guideline for the calculation of the optimal time delay (not the shortest) and the proper quarantine period (not too long but sufficient to contain the epidemics) "
            ],
            "text/plain": [
              "<IPython.core.display.HTML object>"
            ]
          },
          "metadata": {
            "tags": []
          }
        },
        {
          "output_type": "display_data",
          "data": {
            "text/html": [
              "<h3 class=\"answer\">ANSWER: 3: \n",
              " 14 days </h3>"
            ],
            "text/plain": [
              "<IPython.core.display.HTML object>"
            ]
          },
          "metadata": {
            "tags": []
          }
        },
        {
          "output_type": "display_data",
          "data": {
            "text/html": [
              "<h4 >TITLE: 3: \n",
              " nan </h4> "
            ],
            "text/plain": [
              "<IPython.core.display.HTML object>"
            ]
          },
          "metadata": {
            "tags": []
          }
        },
        {
          "output_type": "display_data",
          "data": {
            "text/html": [
              "<h4 >DESCRIBED IN PAPER: \n",
              "</h4>  These responses can stem from either events happening in one's own life (e.g., a family member being diagnosed with COVID-19 , or fear of losing a loved one), one's work environment (new protocols to follow, ever-changing and unclear guidance on personal protective equipment), or the interplay of both (being exposed to a patient with COVID-19 at work, and then having to quarantine and isolate oneself from family for 14 days) "
            ],
            "text/plain": [
              "<IPython.core.display.HTML object>"
            ]
          },
          "metadata": {
            "tags": []
          }
        },
        {
          "output_type": "display_data",
          "data": {
            "text/html": [
              "<h2 class=\"question\" > QUERY: 2: \n",
              " What is range of incubation period for coronavirus SARS-CoV-2 COVID-19 in humans \n",
              "</h2>"
            ],
            "text/plain": [
              "<IPython.core.display.HTML object>"
            ]
          },
          "metadata": {
            "tags": []
          }
        },
        {
          "output_type": "display_data",
          "data": {
            "text/html": [
              "<h3 class=\"answer\">ANSWER: 1: \n",
              " 1 to 4 days </h3>"
            ],
            "text/plain": [
              "<IPython.core.display.HTML object>"
            ]
          },
          "metadata": {
            "tags": []
          }
        },
        {
          "output_type": "display_data",
          "data": {
            "text/html": [
              "<h4 >TITLE: 1: \n",
              " In-Silico evidence for two receptors based strategy of SARS-CoV-2 </h4> "
            ],
            "text/plain": [
              "<IPython.core.display.HTML object>"
            ]
          },
          "metadata": {
            "tags": []
          }
        },
        {
          "output_type": "display_data",
          "data": {
            "text/html": [
              "<h4 >DESCRIBED IN PAPER: \n",
              "</h4>  The COVID-19 outbreak represents a serious threat to public health [3] , and the World Health Organization officially declared it a pandemic.To date 7 coronavirus strains are known to infect humans and no approved therapies or vaccine against them are available [3] .In the past two decades, in addition to SARS-CoV-2, two other β-coronavirus have caused three of the most severe epidemics worldwide: SARS-CoV [4, 5] and MERS-CoV [6] which respectively cause the Severe Acute Respiratory Syndrome (SARS), and the Middle East Respiratory Syndrome (MERS).The characteristics of the interactions between these viruses and the human cell receptors are being carefully studied to shed light on both diffusion speed and mortality rate differences between SARS-CoV-2 and the others, with special regard to SARS-CoV.Indeed, SARS-CoV spread across 26 countries in six continents and caused a total of 8,096 cases and 774 deaths (9.6%) [7] , with an incubation period of 1 to 4 days [8] "
            ],
            "text/plain": [
              "<IPython.core.display.HTML object>"
            ]
          },
          "metadata": {
            "tags": []
          }
        },
        {
          "output_type": "display_data",
          "data": {
            "text/html": [
              "<h3 class=\"answer\">ANSWER: 2: \n",
              " 1 to 4 days </h3>"
            ],
            "text/plain": [
              "<IPython.core.display.HTML object>"
            ]
          },
          "metadata": {
            "tags": []
          }
        },
        {
          "output_type": "display_data",
          "data": {
            "text/html": [
              "<h4 >TITLE: 2: \n",
              " In-Silico evidence for two receptors based strategy of SARS-CoV-2 </h4> "
            ],
            "text/plain": [
              "<IPython.core.display.HTML object>"
            ]
          },
          "metadata": {
            "tags": []
          }
        },
        {
          "output_type": "display_data",
          "data": {
            "text/html": [
              "<h4 >DESCRIBED IN PAPER: \n",
              "</h4>  The COVID-19 outbreak represents a serious threat to public health [3] , and the World Health Organization officially declared it a pandemic.To date 7 coronavirus strains are known to infect humans and no approved therapies or vaccine against them are available [3] .In the past two decades, in addition to SARS-CoV-2, two other β-coronavirus have caused three of the most severe epidemics worldwide: SARS-CoV [4, 5] and MERS-CoV [6] which respectively cause the Severe Acute Respiratory Syndrome (SARS), and the Middle East Respiratory Syndrome (MERS).The characteristics of the interactions between these viruses and the human cell receptors are being carefully studied to shed light on both diffusion speed and mortality rate differences between SARS-CoV-2 and the others, with special regard to SARS-CoV.Indeed, SARS-CoV spread across 26 countries in six continents and caused a total of 8,096 cases and 774 deaths (9.6%) [7] , with an incubation period of 1 to 4 days [8] "
            ],
            "text/plain": [
              "<IPython.core.display.HTML object>"
            ]
          },
          "metadata": {
            "tags": []
          }
        },
        {
          "output_type": "display_data",
          "data": {
            "text/html": [
              "<h3 class=\"answer\">ANSWER: 3: \n",
              " 0 to 33 days </h3>"
            ],
            "text/plain": [
              "<IPython.core.display.HTML object>"
            ]
          },
          "metadata": {
            "tags": []
          }
        },
        {
          "output_type": "display_data",
          "data": {
            "text/html": [
              "<h4 >TITLE: 3: \n",
              " nan </h4> "
            ],
            "text/plain": [
              "<IPython.core.display.HTML object>"
            ]
          },
          "metadata": {
            "tags": []
          }
        },
        {
          "output_type": "display_data",
          "data": {
            "text/html": [
              "<h4 >DESCRIBED IN PAPER: \n",
              "</h4>  For example, consider these snippets from a randomly selected paper 38 on the topic of incubation period:The full range of incubation periods of the Covid-19 cases ranged from 0 to 33 days among 2015 cases.The median incubation period of both male and female adults was similar (7-day) but significantly shorter than that (9-day) of child cases (P=0.02).Interestingly, incubation periods of 233 cases (11.6%) were longer than the WHO-established quarantine period (14 days) "
            ],
            "text/plain": [
              "<IPython.core.display.HTML object>"
            ]
          },
          "metadata": {
            "tags": []
          }
        },
        {
          "output_type": "display_data",
          "data": {
            "text/html": [
              "<h2 class=\"question\" > QUERY: 3: \n",
              " What is effective quarantine period for coronavirus COVID-19 \n",
              "</h2>"
            ],
            "text/plain": [
              "<IPython.core.display.HTML object>"
            ]
          },
          "metadata": {
            "tags": []
          }
        },
        {
          "output_type": "display_data",
          "data": {
            "text/html": [
              "<h3 class=\"answer\">ANSWER: 1: \n",
              " 14 days </h3>"
            ],
            "text/plain": [
              "<IPython.core.display.HTML object>"
            ]
          },
          "metadata": {
            "tags": []
          }
        },
        {
          "output_type": "display_data",
          "data": {
            "text/html": [
              "<h4 >TITLE: 1: \n",
              " nan </h4> "
            ],
            "text/plain": [
              "<IPython.core.display.HTML object>"
            ]
          },
          "metadata": {
            "tags": []
          }
        },
        {
          "output_type": "display_data",
          "data": {
            "text/html": [
              "<h4 >DESCRIBED IN PAPER: \n",
              "</h4>  These responses can stem from either events happening in one's own life (e.g., a family member being diagnosed with COVID-19 , or fear of losing a loved one), one's work environment (new protocols to follow, ever-changing and unclear guidance on personal protective equipment), or the interplay of both (being exposed to a patient with COVID-19 at work, and then having to quarantine and isolate oneself from family for 14 days) "
            ],
            "text/plain": [
              "<IPython.core.display.HTML object>"
            ]
          },
          "metadata": {
            "tags": []
          }
        },
        {
          "output_type": "display_data",
          "data": {
            "text/html": [
              "<h3 class=\"answer\">ANSWER: 2: \n",
              " not too long but sufficient to contain the epidemics </h3>"
            ],
            "text/plain": [
              "<IPython.core.display.HTML object>"
            ]
          },
          "metadata": {
            "tags": []
          }
        },
        {
          "output_type": "display_data",
          "data": {
            "text/html": [
              "<h4 >TITLE: 2: \n",
              " Optimal Time Delay in the Control of Epidemic </h4> "
            ],
            "text/plain": [
              "<IPython.core.display.HTML object>"
            ]
          },
          "metadata": {
            "tags": []
          }
        },
        {
          "output_type": "display_data",
          "data": {
            "text/html": [
              "<h4 >DESCRIBED IN PAPER: \n",
              "</h4>  Here we seek a general model to describe the mathematical consequence of slow identification of the infected (large time delay for isolation) and the short quarantine period, thereby deriving a general guideline for the calculation of the optimal time delay (not the shortest) and the proper quarantine period (not too long but sufficient to contain the epidemics) "
            ],
            "text/plain": [
              "<IPython.core.display.HTML object>"
            ]
          },
          "metadata": {
            "tags": []
          }
        },
        {
          "output_type": "display_data",
          "data": {
            "text/html": [
              "<h3 class=\"answer\">ANSWER: 3: \n",
              " 14 days </h3>"
            ],
            "text/plain": [
              "<IPython.core.display.HTML object>"
            ]
          },
          "metadata": {
            "tags": []
          }
        },
        {
          "output_type": "display_data",
          "data": {
            "text/html": [
              "<h4 >TITLE: 3: \n",
              " nan </h4> "
            ],
            "text/plain": [
              "<IPython.core.display.HTML object>"
            ]
          },
          "metadata": {
            "tags": []
          }
        },
        {
          "output_type": "display_data",
          "data": {
            "text/html": [
              "<h4 >DESCRIBED IN PAPER: \n",
              "</h4>  For example, consider these snippets from a randomly selected paper 38 on the topic of incubation period:The full range of incubation periods of the Covid-19 cases ranged from 0 to 33 days among 2015 cases.The median incubation period of both male and female adults was similar (7-day) but significantly shorter than that (9-day) of child cases (P=0.02).Interestingly, incubation periods of 233 cases (11.6%) were longer than the WHO-established quarantine period (14 days) "
            ],
            "text/plain": [
              "<IPython.core.display.HTML object>"
            ]
          },
          "metadata": {
            "tags": []
          }
        },
        {
          "output_type": "display_data",
          "data": {
            "text/html": [
              "<h2 class=\"question\" > QUERY: 4: \n",
              " What is percentage of death cases for coronavirus SARS-CoV-2 COVID-19 \n",
              "</h2>"
            ],
            "text/plain": [
              "<IPython.core.display.HTML object>"
            ]
          },
          "metadata": {
            "tags": []
          }
        },
        {
          "output_type": "display_data",
          "data": {
            "text/html": [
              "<h3 class=\"answer\">ANSWER: 1: \n",
              " 9·6% </h3>"
            ],
            "text/plain": [
              "<IPython.core.display.HTML object>"
            ]
          },
          "metadata": {
            "tags": []
          }
        },
        {
          "output_type": "display_data",
          "data": {
            "text/html": [
              "<h4 >TITLE: 1: \n",
              " Middle East respiratory syndrome </h4> "
            ],
            "text/plain": [
              "<IPython.core.display.HTML object>"
            ]
          },
          "metadata": {
            "tags": []
          }
        },
        {
          "output_type": "display_data",
          "data": {
            "text/html": [
              "<h4 >DESCRIBED IN PAPER: \n",
              "</h4>  3 All three causative coronaviruses, respectively, SARS-CoV, MERS-CoV, and SARS-related coronavirus-2 (SARS-CoV-2) have focused the attention of global public health authorities and are listed in the WHO Blueprint list for priority pathogens 4 because of their pandemic potential, threat to global health security, and the absence of any effective treatments.SARS-CoV was first identified in humans in Guangdong, China, in November, 2002 and subsequently spread rapidly worldwide to 29 countries, resulting in 8098 human SARS cases with 774 deaths (9·6% mortality) "
            ],
            "text/plain": [
              "<IPython.core.display.HTML object>"
            ]
          },
          "metadata": {
            "tags": []
          }
        },
        {
          "output_type": "display_data",
          "data": {
            "text/html": [
              "<h3 class=\"answer\">ANSWER: 2: \n",
              " 10% </h3>"
            ],
            "text/plain": [
              "<IPython.core.display.HTML object>"
            ]
          },
          "metadata": {
            "tags": []
          }
        },
        {
          "output_type": "display_data",
          "data": {
            "text/html": [
              "<h4 >TITLE: 2: \n",
              " Journal Pre-proof Epidemic update of COVID-19 in Hubei Province compared with other regions in China </h4> "
            ],
            "text/plain": [
              "<IPython.core.display.HTML object>"
            ]
          },
          "metadata": {
            "tags": []
          }
        },
        {
          "output_type": "display_data",
          "data": {
            "text/html": [
              "<h4 >DESCRIBED IN PAPER: \n",
              "</h4>  Most human coronavirus infections are mild, except for two beta-coronaviruses, the severe acute respiratory syndrome coronavirus (SARS-CoV) [5] [6] [7] and the Middle East respiratory syndrome coronavirus (MERS-CoV), [8, 9] which have caused more than 10,000 cumulative cases in the past, with mortality rates of 10% for the SARS-CoV and 37% for the MERS-CoV "
            ],
            "text/plain": [
              "<IPython.core.display.HTML object>"
            ]
          },
          "metadata": {
            "tags": []
          }
        },
        {
          "output_type": "display_data",
          "data": {
            "text/html": [
              "<h3 class=\"answer\">ANSWER: 3: \n",
              " 60.9% </h3>"
            ],
            "text/plain": [
              "<IPython.core.display.HTML object>"
            ]
          },
          "metadata": {
            "tags": []
          }
        },
        {
          "output_type": "display_data",
          "data": {
            "text/html": [
              "<h4 >TITLE: 3: \n",
              " To appear in: Nutrition, Metabolism and Cardiovascular Diseases </h4> "
            ],
            "text/plain": [
              "<IPython.core.display.HTML object>"
            ]
          },
          "metadata": {
            "tags": []
          }
        },
        {
          "output_type": "display_data",
          "data": {
            "text/html": [
              "<h4 >DESCRIBED IN PAPER: \n",
              "</h4>  It is so important to early identify those patients with acquired quarantine measures.When COVID-19 patients show increased respiratory rate, lower blood pressure and even shock, Electrocardiogram (ECG) with prolonged QRS interval,  Management of hypertensive patients The clinical characteristics of COVID-19 patients showed that hypertension was closely related with the severity of COVID-19 infection; 20%-30% in in-patients, 58.3% in the intensive care unit (ICU) patients, and 60.9% in the death cases "
            ],
            "text/plain": [
              "<IPython.core.display.HTML object>"
            ]
          },
          "metadata": {
            "tags": []
          }
        },
        {
          "output_type": "display_data",
          "data": {
            "text/html": [
              "<h2 class=\"question\" > QUERY: 5: \n",
              " What is death rate for coronavirus COVID-19 and air pollution \n",
              "</h2>"
            ],
            "text/plain": [
              "<IPython.core.display.HTML object>"
            ]
          },
          "metadata": {
            "tags": []
          }
        },
        {
          "output_type": "display_data",
          "data": {
            "text/html": [
              "<h3 class=\"answer\">ANSWER: 1: \n",
              " 20 times the one estimated for all-cause mortality </h3>"
            ],
            "text/plain": [
              "<IPython.core.display.HTML object>"
            ]
          },
          "metadata": {
            "tags": []
          }
        },
        {
          "output_type": "display_data",
          "data": {
            "text/html": [
              "<h4 >TITLE: 1: \n",
              " Exposure to air pollution and COVID-19 mortality in the United States </h4> "
            ],
            "text/plain": [
              "<IPython.core.display.HTML object>"
            ]
          },
          "metadata": {
            "tags": []
          }
        },
        {
          "output_type": "display_data",
          "data": {
            "text/html": [
              "<h4 >DESCRIBED IN PAPER: \n",
              "</h4>  Therefore, a small increase in long-term exposure to PM 2.5 leads to a large increase in COVID-19 death rate of a magnitude that is 20 times the one estimated for all-cause mortality.This analysis provides a timely characterization of the relationship between historical exposure to air pollution COVID-19 deaths in the United States "
            ],
            "text/plain": [
              "<IPython.core.display.HTML object>"
            ]
          },
          "metadata": {
            "tags": []
          }
        },
        {
          "output_type": "display_data",
          "data": {
            "text/html": [
              "<h3 class=\"answer\">ANSWER: 2: \n",
              " 14.2% </h3>"
            ],
            "text/plain": [
              "<IPython.core.display.HTML object>"
            ]
          },
          "metadata": {
            "tags": []
          }
        },
        {
          "output_type": "display_data",
          "data": {
            "text/html": [
              "<h4 >TITLE: 2: \n",
              " Journal Pre-proof Brief recommendations on the management of adult patients with familial hypercholesterolemia during the COVID-19 pandemic Brief recommendations on the management of adult patients with familial hypercholesterolemia during the COVID-19 pandemic </h4> "
            ],
            "text/plain": [
              "<IPython.core.display.HTML object>"
            ]
          },
          "metadata": {
            "tags": []
          }
        },
        {
          "output_type": "display_data",
          "data": {
            "text/html": [
              "<h4 >DESCRIBED IN PAPER: \n",
              "</h4>  The aim of this document is to share practical recommendations about the management of FH patients and optimisation of their treatment during the COVID-19 pandemic.The pandemic of a new coronavirus is a great challenge for healthcare systems worldwide, Observational data allows us tentatively to identify patients at the highest risk of severe consequences resulting from COVID-19, which includes those over 75 years of age (death rate: 14.2%), with baseline cardiovascular disease (CVD) (>13% for confirmed cases), with diabetes (9.2%), chronic respiratory disease, hypertension and cancer (death rate 7.5% for all) [3] "
            ],
            "text/plain": [
              "<IPython.core.display.HTML object>"
            ]
          },
          "metadata": {
            "tags": []
          }
        },
        {
          "output_type": "display_data",
          "data": {
            "text/html": [
              "<h3 class=\"answer\">ANSWER: 3: \n",
              " 2-3 per 100 </h3>"
            ],
            "text/plain": [
              "<IPython.core.display.HTML object>"
            ]
          },
          "metadata": {
            "tags": []
          }
        },
        {
          "output_type": "display_data",
          "data": {
            "text/html": [
              "<h4 >TITLE: 3: \n",
              " Editorial Commentary </h4> "
            ],
            "text/plain": [
              "<IPython.core.display.HTML object>"
            ]
          },
          "metadata": {
            "tags": []
          }
        },
        {
          "output_type": "display_data",
          "data": {
            "text/html": [
              "<h4 >DESCRIBED IN PAPER: \n",
              "</h4>  Based on the current numbers for COVID-19 (death rate of 2-3 per 100) the new coronavirus appears less deadly than SARS (mortality~1 in 10) or MERS (mortality~3/10), but more deadly than seasonal flu (mortality~0.5 to 1 per 1000).While SARS-CoV-2 is spreading at alarming rates in China, there has not yet been sustained human-to-human transmission outside of China "
            ],
            "text/plain": [
              "<IPython.core.display.HTML object>"
            ]
          },
          "metadata": {
            "tags": []
          }
        },
        {
          "output_type": "display_data",
          "data": {
            "text/html": [
              "<h2 class=\"question\" > QUERY: 6: \n",
              " At which temperature coronavirus COVID-19 can survive \n",
              "</h2>"
            ],
            "text/plain": [
              "<IPython.core.display.HTML object>"
            ]
          },
          "metadata": {
            "tags": []
          }
        },
        {
          "output_type": "display_data",
          "data": {
            "text/html": [
              "<h3 class=\"answer\">ANSWER: 1: \n",
              " between 13-19°C </h3>"
            ],
            "text/plain": [
              "<IPython.core.display.HTML object>"
            ]
          },
          "metadata": {
            "tags": []
          }
        },
        {
          "output_type": "display_data",
          "data": {
            "text/html": [
              "<h4 >TITLE: 1: \n",
              " Will COVID-19 pandemic diminish by summer-monsoon in India? Lesson from the first lockdown </h4> "
            ],
            "text/plain": [
              "<IPython.core.display.HTML object>"
            ]
          },
          "metadata": {
            "tags": []
          }
        },
        {
          "output_type": "display_data",
          "data": {
            "text/html": [
              "<h4 >DESCRIBED IN PAPER: \n",
              "</h4>  1101 similarities to the other studies done earlier on COVID-19 cases in China, Europe, and the USA.Studying Wuhan, Guangzhou, and Beijing COVID-19 cased Bu et al., (2020) found a meteorological condition with the temperature between 13-19°C and humidity between 50% and 80% was suitable for the survival and transmission of the coronavirus "
            ],
            "text/plain": [
              "<IPython.core.display.HTML object>"
            ]
          },
          "metadata": {
            "tags": []
          }
        },
        {
          "output_type": "display_data",
          "data": {
            "text/html": [
              "<h3 class=\"answer\">ANSWER: 2: \n",
              " 3 to 17 ºC </h3>"
            ],
            "text/plain": [
              "<IPython.core.display.HTML object>"
            ]
          },
          "metadata": {
            "tags": []
          }
        },
        {
          "output_type": "display_data",
          "data": {
            "text/html": [
              "<h4 >TITLE: 2: \n",
              " Relationship between Average Daily Temperature and Average Cumulative Daily Rate of Confirmed Cases of COVID-19 </h4> "
            ],
            "text/plain": [
              "<IPython.core.display.HTML object>"
            ]
          },
          "metadata": {
            "tags": []
          }
        },
        {
          "output_type": "display_data",
          "data": {
            "text/html": [
              "<h4 >DESCRIBED IN PAPER: \n",
              "</h4>  Bukhari et al., (2020) , studied the epidemic of COVID-19 on tropical zones and their results show that the highest number of infection happened in temperature among 3 to 17 ºC [19] .The analysis of Grant and Giovannucci (2009) shows that by increasing the UV, the level of vitamin D in the body increases and makes the infection rates decrease "
            ],
            "text/plain": [
              "<IPython.core.display.HTML object>"
            ]
          },
          "metadata": {
            "tags": []
          }
        },
        {
          "output_type": "display_data",
          "data": {
            "text/html": [
              "<h3 class=\"answer\">ANSWER: 3: \n",
              " airborne </h3>"
            ],
            "text/plain": [
              "<IPython.core.display.HTML object>"
            ]
          },
          "metadata": {
            "tags": []
          }
        },
        {
          "output_type": "display_data",
          "data": {
            "text/html": [
              "<h4 >TITLE: 3: \n",
              " Hydroxychloroquine Versus COVID-19: A Rapid Systematic Review and Meta-Analysis Hydroxychloroquine Versus COVID-19: A Rapid Systematic Review and Meta-Analysis </h4> "
            ],
            "text/plain": [
              "<IPython.core.display.HTML object>"
            ]
          },
          "metadata": {
            "tags": []
          }
        },
        {
          "output_type": "display_data",
          "data": {
            "text/html": [
              "<h4 >DESCRIBED IN PAPER: \n",
              "</h4>  Will coronavirus survive airborne? Is COVID-19 transmitted vertically in pregnancy? Should everyone be wearing masks? How long can the virus survive on surfaces? Is it possible to get COVID-19 for a second time? And etc.).In this regard, one of the hottest controversies is the hydroxychloroquine (HCQ) efficacy for the COVID-19 patients "
            ],
            "text/plain": [
              "<IPython.core.display.HTML object>"
            ]
          },
          "metadata": {
            "tags": []
          }
        },
        {
          "output_type": "display_data",
          "data": {
            "text/html": [
              "<h2 class=\"question\" > QUERY: 7: \n",
              " How long coronavirus SARS-CoV-2 can survive on plastic surface \n",
              "</h2>"
            ],
            "text/plain": [
              "<IPython.core.display.HTML object>"
            ]
          },
          "metadata": {
            "tags": []
          }
        },
        {
          "output_type": "display_data",
          "data": {
            "text/html": [
              "<h3 class=\"answer\">ANSWER: 1: \n",
              " up to nine days </h3>"
            ],
            "text/plain": [
              "<IPython.core.display.HTML object>"
            ]
          },
          "metadata": {
            "tags": []
          }
        },
        {
          "output_type": "display_data",
          "data": {
            "text/html": [
              "<h4 >TITLE: 1: \n",
              " COVID-19 pandemic and the stethoscope: don't forget to sanitize </h4> "
            ],
            "text/plain": [
              "<IPython.core.display.HTML object>"
            ]
          },
          "metadata": {
            "tags": []
          }
        },
        {
          "output_type": "display_data",
          "data": {
            "text/html": [
              "<h4 >DESCRIBED IN PAPER: \n",
              "</h4>  5 This has raised concern regarding nosocomial transmission and supports public health officials' urging of the public to sanitize their hands frequently when coming into contact with public surfaces.Other coronaviruses such as the Middle East Respiratory Syndrome (MERS) coronavirus and SARS-CoV-1, have been reported to remain viable on inanimate surfaces such as glass, plastic or metal for up to nine days, but can be inactivated by alcohol solutions, hydrogen peroxide, and sodium hypochlorite "
            ],
            "text/plain": [
              "<IPython.core.display.HTML object>"
            ]
          },
          "metadata": {
            "tags": []
          }
        },
        {
          "output_type": "display_data",
          "data": {
            "text/html": [
              "<h3 class=\"answer\">ANSWER: 2: \n",
              " 72-120 h </h3>"
            ],
            "text/plain": [
              "<IPython.core.display.HTML object>"
            ]
          },
          "metadata": {
            "tags": []
          }
        },
        {
          "output_type": "display_data",
          "data": {
            "text/html": [
              "<h4 >TITLE: 2: \n",
              " Clinical management and infection control of SARS: Lessons learned </h4> "
            ],
            "text/plain": [
              "<IPython.core.display.HTML object>"
            ]
          },
          "metadata": {
            "tags": []
          }
        },
        {
          "output_type": "display_data",
          "data": {
            "text/html": [
              "<h4 >DESCRIBED IN PAPER: \n",
              "</h4>  However, transmission of SARS-CoV by indirect contact with contaminated environment might be one of the possibilities, as SARS-CoV can survive in the environment for 72-120 h (Chan et al., 2011; Duan et al., 2003) , while infectivity is retained for up to 6 days on a dried surface (Rabenau et al., 2005) .Hospital design with augmented air changes may be protective against nosocomial transmission of SARS "
            ],
            "text/plain": [
              "<IPython.core.display.HTML object>"
            ]
          },
          "metadata": {
            "tags": []
          }
        },
        {
          "output_type": "display_data",
          "data": {
            "text/html": [
              "<h3 class=\"answer\">ANSWER: 3: \n",
              " 72 hours </h3>"
            ],
            "text/plain": [
              "<IPython.core.display.HTML object>"
            ]
          },
          "metadata": {
            "tags": []
          }
        },
        {
          "output_type": "display_data",
          "data": {
            "text/html": [
              "<h4 >TITLE: 3: \n",
              " Recommendations for a safety dental care management during SARS-CoV-2 pandemic </h4> "
            ],
            "text/plain": [
              "<IPython.core.display.HTML object>"
            ]
          },
          "metadata": {
            "tags": []
          }
        },
        {
          "output_type": "display_data",
          "data": {
            "text/html": [
              "<h4 >DESCRIBED IN PAPER: \n",
              "</h4>  • To clean and disinfect environmental surfaces and patientcare equipment using hospital grade germicides (quaternary ammonium-based, phenol-based, and alcohol-based products), as the SARS-CoV-2 can survive for 72 hours on surfaces of stainless steel and plastic, 24 hours in cardboard and from 40 minutes to 2 hours 30 minutes in aerosolized form or in dust (25) "
            ],
            "text/plain": [
              "<IPython.core.display.HTML object>"
            ]
          },
          "metadata": {
            "tags": []
          }
        },
        {
          "output_type": "display_data",
          "data": {
            "text/html": [
              "<h2 class=\"question\" > QUERY: 8: \n",
              " What are risk factors for coronavirus COVID-19 \n",
              "</h2>"
            ],
            "text/plain": [
              "<IPython.core.display.HTML object>"
            ]
          },
          "metadata": {
            "tags": []
          }
        },
        {
          "output_type": "display_data",
          "data": {
            "text/html": [
              "<h3 class=\"answer\">ANSWER: 1: \n",
              " age, gender, and obesity </h3>"
            ],
            "text/plain": [
              "<IPython.core.display.HTML object>"
            ]
          },
          "metadata": {
            "tags": []
          }
        },
        {
          "output_type": "display_data",
          "data": {
            "text/html": [
              "<h4 >TITLE: 1: \n",
              " To appear in: Nutrition, Metabolism and Cardiovascular Diseases </h4> "
            ],
            "text/plain": [
              "<IPython.core.display.HTML object>"
            ]
          },
          "metadata": {
            "tags": []
          }
        },
        {
          "output_type": "display_data",
          "data": {
            "text/html": [
              "<h4 >DESCRIBED IN PAPER: \n",
              "</h4>  Therefore, in this study, we retrospectively analyzed the differences in basic characteristics and laboratory tests between the COVID-19 patients with and without CVD, and we tried to explain the differences.Previous studies suggested that age, gender, and obesity are risk factors for CVD, as well as the poor prognosis of COVID-19 [5] "
            ],
            "text/plain": [
              "<IPython.core.display.HTML object>"
            ]
          },
          "metadata": {
            "tags": []
          }
        },
        {
          "output_type": "display_data",
          "data": {
            "text/html": [
              "<h3 class=\"answer\">ANSWER: 2: \n",
              " older age, cardiovascular disease, hypertension, lung disease, diabetes, or cancer </h3>"
            ],
            "text/plain": [
              "<IPython.core.display.HTML object>"
            ]
          },
          "metadata": {
            "tags": []
          }
        },
        {
          "output_type": "display_data",
          "data": {
            "text/html": [
              "<h4 >TITLE: 2: \n",
              " Novel Coronavirus Disease (COVID-19) and Biologic Therapy in Psoriasis: Infection Risk and Patient Counseling in Uncertain Times </h4> "
            ],
            "text/plain": [
              "<IPython.core.display.HTML object>"
            ]
          },
          "metadata": {
            "tags": []
          }
        },
        {
          "output_type": "display_data",
          "data": {
            "text/html": [
              "<h4 >DESCRIBED IN PAPER: \n",
              "</h4>  There is no evidence to recommend prophylactically stopping or postponing biologic therapy in all patients with psoriasis; however, patients should have individualized discussions with their medical providers taking into account the following factors:• COVID-19 risk factors such as older age, cardiovascular disease, hypertension, lung disease, diabetes, or cancer • Severity of underlying psoriasis or psoriatic arthritis • Concomitant immunosuppressive medications or conditions • Risk of exposure to COVID-19 based on occupation or living situation 3 "
            ],
            "text/plain": [
              "<IPython.core.display.HTML object>"
            ]
          },
          "metadata": {
            "tags": []
          }
        },
        {
          "output_type": "display_data",
          "data": {
            "text/html": [
              "<h3 class=\"answer\">ANSWER: 3: \n",
              " infant mortality rate and poverty risk rate </h3>"
            ],
            "text/plain": [
              "<IPython.core.display.HTML object>"
            ]
          },
          "metadata": {
            "tags": []
          }
        },
        {
          "output_type": "display_data",
          "data": {
            "text/html": [
              "<h4 >TITLE: 3: \n",
              " Investigating spatial variability in COVID-19 pandemic severity across 19 geographic areas, Spain, 2020 </h4> "
            ],
            "text/plain": [
              "<IPython.core.display.HTML object>"
            ]
          },
          "metadata": {
            "tags": []
          }
        },
        {
          "output_type": "display_data",
          "data": {
            "text/html": [
              "<h4 >DESCRIBED IN PAPER: \n",
              "</h4>  Our findings suggest a significant association of factors such as infant mortality rate and poverty risk rate with the increased risk of death due to COVID-19.Further studies with patient level data on mortality, and risk factors could provide a more detailed understanding of the factors shaping the risk of death related to COVID-19 "
            ],
            "text/plain": [
              "<IPython.core.display.HTML object>"
            ]
          },
          "metadata": {
            "tags": []
          }
        },
        {
          "output_type": "display_data",
          "data": {
            "text/html": [
              "<h2 class=\"question\" > QUERY: 9: \n",
              " What is origin of coronavirus COVID-19 \n",
              "</h2>"
            ],
            "text/plain": [
              "<IPython.core.display.HTML object>"
            ]
          },
          "metadata": {
            "tags": []
          }
        },
        {
          "output_type": "display_data",
          "data": {
            "text/html": [
              "<h3 class=\"answer\">ANSWER: 1: \n",
              " CT images </h3>"
            ],
            "text/plain": [
              "<IPython.core.display.HTML object>"
            ]
          },
          "metadata": {
            "tags": []
          }
        },
        {
          "output_type": "display_data",
          "data": {
            "text/html": [
              "<h4 >TITLE: 1: \n",
              " DISTINGUISHING L AND H PHENOTYPES OF COVID-19 USING A SINGLE X-RAY IMAGE </h4> "
            ],
            "text/plain": [
              "<IPython.core.display.HTML object>"
            ]
          },
          "metadata": {
            "tags": []
          }
        },
        {
          "output_type": "display_data",
          "data": {
            "text/html": [
              "<h4 >DESCRIBED IN PAPER: \n",
              "</h4>  Here, we introduce a machine-learned early detection system to identify COVID-19 and differentiate its L and H phenotypes using conventional chest x-rays.That this is possible comes from the origin of CT images: they are made from a collection of x-rays taken at different angles, each of which contains information on lung size, shape, and density "
            ],
            "text/plain": [
              "<IPython.core.display.HTML object>"
            ]
          },
          "metadata": {
            "tags": []
          }
        },
        {
          "output_type": "display_data",
          "data": {
            "text/html": [
              "<h3 class=\"answer\">ANSWER: 2: \n",
              " coronavirus SARS-CoV-2 </h3>"
            ],
            "text/plain": [
              "<IPython.core.display.HTML object>"
            ]
          },
          "metadata": {
            "tags": []
          }
        },
        {
          "output_type": "display_data",
          "data": {
            "text/html": [
              "<h4 >TITLE: 2: \n",
              " nan </h4> "
            ],
            "text/plain": [
              "<IPython.core.display.HTML object>"
            ]
          },
          "metadata": {
            "tags": []
          }
        },
        {
          "output_type": "display_data",
          "data": {
            "text/html": [
              "<h4 >DESCRIBED IN PAPER: \n",
              "</h4>  [1] .The article expounds the benefit of Traditional Chinese Medicine (TCM) for the treatment of the illness called COVID-19 resulting from the novel coronavirus SARS-CoV-2, stating, \"clinical practice results showed that traditional Chinese medicine (TCM) plays significant role in the treatment of COVID-19, bringing new hope for the prevention and control of COVID-19\" and that \"early intervention of TCM can effectively prevent the disease from transforming into severe and critical disease\" [1] "
            ],
            "text/plain": [
              "<IPython.core.display.HTML object>"
            ]
          },
          "metadata": {
            "tags": []
          }
        },
        {
          "output_type": "display_data",
          "data": {
            "text/html": [
              "<h3 class=\"answer\">ANSWER: 3: \n",
              " SARS-CoV-2 virus </h3>"
            ],
            "text/plain": [
              "<IPython.core.display.HTML object>"
            ]
          },
          "metadata": {
            "tags": []
          }
        },
        {
          "output_type": "display_data",
          "data": {
            "text/html": [
              "<h4 >TITLE: 3: \n",
              " The COVID-19 pandemic: implications for the cytology laboratory </h4> "
            ],
            "text/plain": [
              "<IPython.core.display.HTML object>"
            ]
          },
          "metadata": {
            "tags": []
          }
        },
        {
          "output_type": "display_data",
          "data": {
            "text/html": [
              "<h4 >DESCRIBED IN PAPER: \n",
              "</h4>  As the fears of a global coronavirus COVID-19 pandemic, a disease caused by the SARS-CoV-2 virus, continue to grow, the cytology laboratory must also brace itself to continue to offer the best service to patients, while protecting its technicians, technologists, trainees, and pathologists.Recently, a series of public health measures have been taken to reduce the spread of the disease "
            ],
            "text/plain": [
              "<IPython.core.display.HTML object>"
            ]
          },
          "metadata": {
            "tags": []
          }
        },
        {
          "output_type": "display_data",
          "data": {
            "text/html": [
              "<h2 class=\"question\" > QUERY: 10: \n",
              " At which temperature coronavirus cannot survive \n",
              "</h2>"
            ],
            "text/plain": [
              "<IPython.core.display.HTML object>"
            ]
          },
          "metadata": {
            "tags": []
          }
        },
        {
          "output_type": "display_data",
          "data": {
            "text/html": [
              "<h3 class=\"answer\">ANSWER: 1: \n",
              " À22°C to 60°C </h3>"
            ],
            "text/plain": [
              "<IPython.core.display.HTML object>"
            ]
          },
          "metadata": {
            "tags": []
          }
        },
        {
          "output_type": "display_data",
          "data": {
            "text/html": [
              "<h4 >TITLE: 1: \n",
              " Long-term production effects of clinical cryptosporidiosis in neonatal calves </h4> "
            ],
            "text/plain": [
              "<IPython.core.display.HTML object>"
            ]
          },
          "metadata": {
            "tags": []
          }
        },
        {
          "output_type": "display_data",
          "data": {
            "text/html": [
              "<h4 >DESCRIBED IN PAPER: \n",
              "</h4>  These may include the dose of the parasites that the calf receives (Zambrinski et al., 2013) ; the immune resilience of the calves; the uptake and quality of the colostrum (Megank et al., 2014) ; the nutritional status of the calf; the virulence of the parasite (Bouzid et al., 2013) and the occurrence of co-infections in the calves (Cho and Yoon, 2014) .Cryptosporidium parasites have the ability to survive many commonly used farm disinfectants and temperature extremes from À22°C to 60°C (Casemore, 1990; Fujino et al., 2002) , thus it is likely that a high proportion of animals would be exposed to the infection if the parasite is present on the farm.The multilocus genotype of C "
            ],
            "text/plain": [
              "<IPython.core.display.HTML object>"
            ]
          },
          "metadata": {
            "tags": []
          }
        },
        {
          "output_type": "display_data",
          "data": {
            "text/html": [
              "<h3 class=\"answer\">ANSWER: 2: \n",
              " 37.8°C </h3>"
            ],
            "text/plain": [
              "<IPython.core.display.HTML object>"
            ]
          },
          "metadata": {
            "tags": []
          }
        },
        {
          "output_type": "display_data",
          "data": {
            "text/html": [
              "<h4 >TITLE: 2: \n",
              " Asian Journal of Psychiatry </h4> "
            ],
            "text/plain": [
              "<IPython.core.display.HTML object>"
            ]
          },
          "metadata": {
            "tags": []
          }
        },
        {
          "output_type": "display_data",
          "data": {
            "text/html": [
              "<h4 >DESCRIBED IN PAPER: \n",
              "</h4>  The patient and 4 of his family members tested positive for severe acute respiratory syndrome coronavirus 2 (SARS-CoV-2) on nucleic acid tests performed by the Suining Center for Disease Control & Prevention, and then they were transferred to our hospital for quarantine and specialized treatment.The patient's characteristics included the following: temperature, 37.8°C; pulse, 101/min; respiration, 20/min; and blood pressure, 137/ 92 mmHg "
            ],
            "text/plain": [
              "<IPython.core.display.HTML object>"
            ]
          },
          "metadata": {
            "tags": []
          }
        },
        {
          "output_type": "display_data",
          "data": {
            "text/html": [
              "<h3 class=\"answer\">ANSWER: 3: \n",
              " 90°C </h3>"
            ],
            "text/plain": [
              "<IPython.core.display.HTML object>"
            ]
          },
          "metadata": {
            "tags": []
          }
        },
        {
          "output_type": "display_data",
          "data": {
            "text/html": [
              "<h4 >TITLE: 3: \n",
              " Introduction into nanotechnology and microbiology 1 </h4> "
            ],
            "text/plain": [
              "<IPython.core.display.HTML object>"
            ]
          },
          "metadata": {
            "tags": []
          }
        },
        {
          "output_type": "display_data",
          "data": {
            "text/html": [
              "<h4 >DESCRIBED IN PAPER: \n",
              "</h4>  For example, some species of microbes can survive well in extreme cold regions of Antarctica, while others survive in hot water springs at 90°C and above, in places with highly alkaline soils, high concentrations of heavy metals and Sulphur and in locations where no other forms of life can survive "
            ],
            "text/plain": [
              "<IPython.core.display.HTML object>"
            ]
          },
          "metadata": {
            "tags": []
          }
        }
      ]
    },
    {
      "cell_type": "code",
      "metadata": {
        "id": "663UGE8OzKO-",
        "colab_type": "code",
        "colab": {}
      },
      "source": [
        ""
      ],
      "execution_count": 0,
      "outputs": []
    }
  ]
}